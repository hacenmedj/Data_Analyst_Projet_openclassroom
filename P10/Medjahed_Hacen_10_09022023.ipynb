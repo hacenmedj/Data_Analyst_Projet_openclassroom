{
 "cells": [
  {
   "cell_type": "code",
   "execution_count": 78,
   "id": "cb75aeae",
   "metadata": {},
   "outputs": [],
   "source": [
    "import pandas as pd\n",
    "import numpy as np\n",
    "import matplotlib.pyplot as plt\n",
    "import seaborn as sns"
   ]
  },
  {
   "cell_type": "raw",
   "id": "bbb23dee",
   "metadata": {},
   "source": [
    "objectif : utiliser deux algorithme: le clustering et la regression logistique"
   ]
  },
  {
   "cell_type": "markdown",
   "id": "b8835d8e",
   "metadata": {},
   "source": [
    "# A-Insertion des données"
   ]
  },
  {
   "cell_type": "code",
   "execution_count": 79,
   "id": "ad3edc47",
   "metadata": {},
   "outputs": [
    {
     "data": {
      "text/html": [
       "<div>\n",
       "<style scoped>\n",
       "    .dataframe tbody tr th:only-of-type {\n",
       "        vertical-align: middle;\n",
       "    }\n",
       "\n",
       "    .dataframe tbody tr th {\n",
       "        vertical-align: top;\n",
       "    }\n",
       "\n",
       "    .dataframe thead th {\n",
       "        text-align: right;\n",
       "    }\n",
       "</style>\n",
       "<table border=\"1\" class=\"dataframe\">\n",
       "  <thead>\n",
       "    <tr style=\"text-align: right;\">\n",
       "      <th></th>\n",
       "      <th>is_genuine</th>\n",
       "      <th>diagonal</th>\n",
       "      <th>height_left</th>\n",
       "      <th>height_right</th>\n",
       "      <th>margin_low</th>\n",
       "      <th>margin_up</th>\n",
       "      <th>length</th>\n",
       "    </tr>\n",
       "  </thead>\n",
       "  <tbody>\n",
       "    <tr>\n",
       "      <th>0</th>\n",
       "      <td>True</td>\n",
       "      <td>171.81</td>\n",
       "      <td>104.86</td>\n",
       "      <td>104.95</td>\n",
       "      <td>4.52</td>\n",
       "      <td>2.89</td>\n",
       "      <td>112.83</td>\n",
       "    </tr>\n",
       "    <tr>\n",
       "      <th>1</th>\n",
       "      <td>True</td>\n",
       "      <td>171.46</td>\n",
       "      <td>103.36</td>\n",
       "      <td>103.66</td>\n",
       "      <td>3.77</td>\n",
       "      <td>2.99</td>\n",
       "      <td>113.09</td>\n",
       "    </tr>\n",
       "    <tr>\n",
       "      <th>2</th>\n",
       "      <td>True</td>\n",
       "      <td>172.69</td>\n",
       "      <td>104.48</td>\n",
       "      <td>103.50</td>\n",
       "      <td>4.40</td>\n",
       "      <td>2.94</td>\n",
       "      <td>113.16</td>\n",
       "    </tr>\n",
       "    <tr>\n",
       "      <th>3</th>\n",
       "      <td>True</td>\n",
       "      <td>171.36</td>\n",
       "      <td>103.91</td>\n",
       "      <td>103.94</td>\n",
       "      <td>3.62</td>\n",
       "      <td>3.01</td>\n",
       "      <td>113.51</td>\n",
       "    </tr>\n",
       "    <tr>\n",
       "      <th>4</th>\n",
       "      <td>True</td>\n",
       "      <td>171.73</td>\n",
       "      <td>104.28</td>\n",
       "      <td>103.46</td>\n",
       "      <td>4.04</td>\n",
       "      <td>3.48</td>\n",
       "      <td>112.54</td>\n",
       "    </tr>\n",
       "    <tr>\n",
       "      <th>...</th>\n",
       "      <td>...</td>\n",
       "      <td>...</td>\n",
       "      <td>...</td>\n",
       "      <td>...</td>\n",
       "      <td>...</td>\n",
       "      <td>...</td>\n",
       "      <td>...</td>\n",
       "    </tr>\n",
       "    <tr>\n",
       "      <th>1495</th>\n",
       "      <td>False</td>\n",
       "      <td>171.75</td>\n",
       "      <td>104.38</td>\n",
       "      <td>104.17</td>\n",
       "      <td>4.42</td>\n",
       "      <td>3.09</td>\n",
       "      <td>111.28</td>\n",
       "    </tr>\n",
       "    <tr>\n",
       "      <th>1496</th>\n",
       "      <td>False</td>\n",
       "      <td>172.19</td>\n",
       "      <td>104.63</td>\n",
       "      <td>104.44</td>\n",
       "      <td>5.27</td>\n",
       "      <td>3.37</td>\n",
       "      <td>110.97</td>\n",
       "    </tr>\n",
       "    <tr>\n",
       "      <th>1497</th>\n",
       "      <td>False</td>\n",
       "      <td>171.80</td>\n",
       "      <td>104.01</td>\n",
       "      <td>104.12</td>\n",
       "      <td>5.51</td>\n",
       "      <td>3.36</td>\n",
       "      <td>111.95</td>\n",
       "    </tr>\n",
       "    <tr>\n",
       "      <th>1498</th>\n",
       "      <td>False</td>\n",
       "      <td>172.06</td>\n",
       "      <td>104.28</td>\n",
       "      <td>104.06</td>\n",
       "      <td>5.17</td>\n",
       "      <td>3.46</td>\n",
       "      <td>112.25</td>\n",
       "    </tr>\n",
       "    <tr>\n",
       "      <th>1499</th>\n",
       "      <td>False</td>\n",
       "      <td>171.47</td>\n",
       "      <td>104.15</td>\n",
       "      <td>103.82</td>\n",
       "      <td>4.63</td>\n",
       "      <td>3.37</td>\n",
       "      <td>112.07</td>\n",
       "    </tr>\n",
       "  </tbody>\n",
       "</table>\n",
       "<p>1500 rows × 7 columns</p>\n",
       "</div>"
      ],
      "text/plain": [
       "      is_genuine  diagonal  height_left  height_right  margin_low  margin_up  \\\n",
       "0           True    171.81       104.86        104.95        4.52       2.89   \n",
       "1           True    171.46       103.36        103.66        3.77       2.99   \n",
       "2           True    172.69       104.48        103.50        4.40       2.94   \n",
       "3           True    171.36       103.91        103.94        3.62       3.01   \n",
       "4           True    171.73       104.28        103.46        4.04       3.48   \n",
       "...          ...       ...          ...           ...         ...        ...   \n",
       "1495       False    171.75       104.38        104.17        4.42       3.09   \n",
       "1496       False    172.19       104.63        104.44        5.27       3.37   \n",
       "1497       False    171.80       104.01        104.12        5.51       3.36   \n",
       "1498       False    172.06       104.28        104.06        5.17       3.46   \n",
       "1499       False    171.47       104.15        103.82        4.63       3.37   \n",
       "\n",
       "      length  \n",
       "0     112.83  \n",
       "1     113.09  \n",
       "2     113.16  \n",
       "3     113.51  \n",
       "4     112.54  \n",
       "...      ...  \n",
       "1495  111.28  \n",
       "1496  110.97  \n",
       "1497  111.95  \n",
       "1498  112.25  \n",
       "1499  112.07  \n",
       "\n",
       "[1500 rows x 7 columns]"
      ]
     },
     "execution_count": 79,
     "metadata": {},
     "output_type": "execute_result"
    }
   ],
   "source": [
    "billet=pd.read_csv(\"C:/Users/hotsa/Downloads/projetDATANalyst/projet10/billets.csv\", sep = ';')\n",
    "billet"
   ]
  },
  {
   "cell_type": "code",
   "execution_count": 80,
   "id": "1b73ab12",
   "metadata": {},
   "outputs": [
    {
     "name": "stdout",
     "output_type": "stream",
     "text": [
      "<class 'pandas.core.frame.DataFrame'>\n",
      "RangeIndex: 1500 entries, 0 to 1499\n",
      "Data columns (total 7 columns):\n",
      " #   Column        Non-Null Count  Dtype  \n",
      "---  ------        --------------  -----  \n",
      " 0   is_genuine    1500 non-null   bool   \n",
      " 1   diagonal      1500 non-null   float64\n",
      " 2   height_left   1500 non-null   float64\n",
      " 3   height_right  1500 non-null   float64\n",
      " 4   margin_low    1463 non-null   float64\n",
      " 5   margin_up     1500 non-null   float64\n",
      " 6   length        1500 non-null   float64\n",
      "dtypes: bool(1), float64(6)\n",
      "memory usage: 71.9 KB\n"
     ]
    }
   ],
   "source": [
    "## imputer les valeurs manquantes. imputer = remplacer les données par d'autre données.\n",
    "billet.info()"
   ]
  },
  {
   "cell_type": "code",
   "execution_count": 81,
   "id": "af66957f",
   "metadata": {},
   "outputs": [
    {
     "name": "stdout",
     "output_type": "stream",
     "text": [
      "<class 'pandas.core.frame.DataFrame'>\n",
      "Int64Index: 1463 entries, 0 to 1499\n",
      "Data columns (total 7 columns):\n",
      " #   Column        Non-Null Count  Dtype  \n",
      "---  ------        --------------  -----  \n",
      " 0   is_genuine    1463 non-null   bool   \n",
      " 1   diagonal      1463 non-null   float64\n",
      " 2   height_left   1463 non-null   float64\n",
      " 3   height_right  1463 non-null   float64\n",
      " 4   margin_low    1463 non-null   float64\n",
      " 5   margin_up     1463 non-null   float64\n",
      " 6   length        1463 non-null   float64\n",
      "dtypes: bool(1), float64(6)\n",
      "memory usage: 81.4 KB\n"
     ]
    }
   ],
   "source": [
    "## supression des données ou on n'a pas de valeurs pour margin_law\n",
    "Imputbillet=billet[billet.margin_low.notnull()]\n",
    "Imputbillet.info()"
   ]
  },
  {
   "cell_type": "code",
   "execution_count": 82,
   "id": "11f9f9dc",
   "metadata": {
    "scrolled": true
   },
   "outputs": [
    {
     "name": "stdout",
     "output_type": "stream",
     "text": [
      "<class 'pandas.core.frame.DataFrame'>\n",
      "Int64Index: 1463 entries, 0 to 1499\n",
      "Data columns (total 1 columns):\n",
      " #   Column      Non-Null Count  Dtype  \n",
      "---  ------      --------------  -----  \n",
      " 0   margin_low  1463 non-null   float64\n",
      "dtypes: float64(1)\n",
      "memory usage: 22.9 KB\n"
     ]
    }
   ],
   "source": [
    "## on indique que Y est la variable que l'on cherche à predire\n",
    "## (double crochet pour garder le type qui est dataframe)\n",
    "Y=Imputbillet[[\"margin_low\"]]\n",
    "Y.info()"
   ]
  },
  {
   "cell_type": "markdown",
   "id": "c5c61f94",
   "metadata": {},
   "source": [
    "# B-Matrice de correlation pour les predictors (X)"
   ]
  },
  {
   "cell_type": "raw",
   "id": "ebe8a5f0",
   "metadata": {},
   "source": [
    "Creer un model de regresion lineaire l'aide de toute les autre variable pour predire les données de margin low"
   ]
  },
  {
   "cell_type": "code",
   "execution_count": 83,
   "id": "e419db91",
   "metadata": {},
   "outputs": [
    {
     "name": "stdout",
     "output_type": "stream",
     "text": [
      "<class 'pandas.core.frame.DataFrame'>\n",
      "Int64Index: 1463 entries, 0 to 1499\n",
      "Data columns (total 5 columns):\n",
      " #   Column        Non-Null Count  Dtype  \n",
      "---  ------        --------------  -----  \n",
      " 0   diagonal      1463 non-null   float64\n",
      " 1   height_left   1463 non-null   float64\n",
      " 2   height_right  1463 non-null   float64\n",
      " 3   margin_up     1463 non-null   float64\n",
      " 4   length        1463 non-null   float64\n",
      "dtypes: float64(5)\n",
      "memory usage: 68.6 KB\n"
     ]
    }
   ],
   "source": [
    "## on cherche à  predire marginlaw avec le reste des données des variables que nous avons\n",
    "Predictors=Imputbillet.drop(columns=[\"margin_low\",\"is_genuine\"])\n",
    "Predictors.info()"
   ]
  },
  {
   "cell_type": "raw",
   "id": "fd68b837",
   "metadata": {},
   "source": [
    "On fait la matrice de correlation que pour les valeurs predictrices."
   ]
  },
  {
   "cell_type": "markdown",
   "id": "17f4d4c1",
   "metadata": {},
   "source": [
    "### La Colinéralité (premiere hypothèses de validité)"
   ]
  },
  {
   "cell_type": "raw",
   "id": "bab86968",
   "metadata": {},
   "source": [
    "La colinéarité des variables peut causer des problèmes lors de l'interprétation des coefficients de régression, car une variable hautement corrélée peut affecter négativement la stabilité des coefficients d'autres variables. Il est donc important de vérifier la colinéarité avant de construire un modèle de régression linéaire."
   ]
  },
  {
   "cell_type": "code",
   "execution_count": 84,
   "id": "d363ede4",
   "metadata": {},
   "outputs": [
    {
     "data": {
      "text/html": [
       "<div>\n",
       "<style scoped>\n",
       "    .dataframe tbody tr th:only-of-type {\n",
       "        vertical-align: middle;\n",
       "    }\n",
       "\n",
       "    .dataframe tbody tr th {\n",
       "        vertical-align: top;\n",
       "    }\n",
       "\n",
       "    .dataframe thead th {\n",
       "        text-align: right;\n",
       "    }\n",
       "</style>\n",
       "<table border=\"1\" class=\"dataframe\">\n",
       "  <thead>\n",
       "    <tr style=\"text-align: right;\">\n",
       "      <th></th>\n",
       "      <th>diagonal</th>\n",
       "      <th>height_left</th>\n",
       "      <th>height_right</th>\n",
       "      <th>margin_up</th>\n",
       "      <th>length</th>\n",
       "    </tr>\n",
       "  </thead>\n",
       "  <tbody>\n",
       "    <tr>\n",
       "      <th>diagonal</th>\n",
       "      <td>1.000000</td>\n",
       "      <td>0.018265</td>\n",
       "      <td>-0.019428</td>\n",
       "      <td>-0.059147</td>\n",
       "      <td>0.100758</td>\n",
       "    </tr>\n",
       "    <tr>\n",
       "      <th>height_left</th>\n",
       "      <td>0.018265</td>\n",
       "      <td>1.000000</td>\n",
       "      <td>0.235132</td>\n",
       "      <td>0.243812</td>\n",
       "      <td>-0.314344</td>\n",
       "    </tr>\n",
       "    <tr>\n",
       "      <th>height_right</th>\n",
       "      <td>-0.019428</td>\n",
       "      <td>0.235132</td>\n",
       "      <td>1.000000</td>\n",
       "      <td>0.306867</td>\n",
       "      <td>-0.404272</td>\n",
       "    </tr>\n",
       "    <tr>\n",
       "      <th>margin_up</th>\n",
       "      <td>-0.059147</td>\n",
       "      <td>0.243812</td>\n",
       "      <td>0.306867</td>\n",
       "      <td>1.000000</td>\n",
       "      <td>-0.521139</td>\n",
       "    </tr>\n",
       "    <tr>\n",
       "      <th>length</th>\n",
       "      <td>0.100758</td>\n",
       "      <td>-0.314344</td>\n",
       "      <td>-0.404272</td>\n",
       "      <td>-0.521139</td>\n",
       "      <td>1.000000</td>\n",
       "    </tr>\n",
       "  </tbody>\n",
       "</table>\n",
       "</div>"
      ],
      "text/plain": [
       "              diagonal  height_left  height_right  margin_up    length\n",
       "diagonal      1.000000     0.018265     -0.019428  -0.059147  0.100758\n",
       "height_left   0.018265     1.000000      0.235132   0.243812 -0.314344\n",
       "height_right -0.019428     0.235132      1.000000   0.306867 -0.404272\n",
       "margin_up    -0.059147     0.243812      0.306867   1.000000 -0.521139\n",
       "length        0.100758    -0.314344     -0.404272  -0.521139  1.000000"
      ]
     },
     "execution_count": 84,
     "metadata": {},
     "output_type": "execute_result"
    }
   ],
   "source": [
    "## la colineralité\n",
    "Predictors.corr()"
   ]
  },
  {
   "cell_type": "code",
   "execution_count": 85,
   "id": "21cc09eb",
   "metadata": {},
   "outputs": [
    {
     "data": {
      "text/plain": [
       "<AxesSubplot:>"
      ]
     },
     "execution_count": 85,
     "metadata": {},
     "output_type": "execute_result"
    },
    {
     "data": {
      "image/png": "[encoded data removed]",
      "text/plain": [
       "<Figure size 432x288 with 2 Axes>"
      ]
     },
     "metadata": {
      "needs_background": "light"
     },
     "output_type": "display_data"
    }
   ],
   "source": [
    "sns.heatmap(data=Predictors.corr(),annot=True)"
   ]
  },
  {
   "cell_type": "raw",
   "id": "fc9582d5",
   "metadata": {},
   "source": [
    "On peut voir qu'aucune correlation est hautement corrélée, et a donc un effet sur la variable Y"
   ]
  },
  {
   "cell_type": "markdown",
   "id": "de032efc",
   "metadata": {},
   "source": [
    "### Variance Inflation Factor"
   ]
  },
  {
   "cell_type": "raw",
   "id": "e31de0f0",
   "metadata": {},
   "source": [
    "VIF (Variance Inflation Factor) signifie Facteur d'Inflation de la Variance.\n",
    "VIF évalue si les facteurs sont corrélés les uns aux autres (multi-colinéarité), \n",
    "ce qui pourrait influencer les autres facteurs et réduire la fiabilité du modèle.VIF (Variance Inflation Factor) signifie Facteur d'Inflation de la Variance."
   ]
  },
  {
   "cell_type": "code",
   "execution_count": 86,
   "id": "5b45afc4",
   "metadata": {},
   "outputs": [
    {
     "name": "stderr",
     "output_type": "stream",
     "text": [
      "C:\\Users\\hotsa\\anaconda3\\lib\\site-packages\\statsmodels\\tsa\\tsatools.py:142: FutureWarning: In a future version of pandas all arguments of concat except for the argument 'objs' will be keyword-only\n",
      "  x = pd.concat(x[::order], 1)\n"
     ]
    },
    {
     "data": {
      "text/html": [
       "<div>\n",
       "<style scoped>\n",
       "    .dataframe tbody tr th:only-of-type {\n",
       "        vertical-align: middle;\n",
       "    }\n",
       "\n",
       "    .dataframe tbody tr th {\n",
       "        vertical-align: top;\n",
       "    }\n",
       "\n",
       "    .dataframe thead th {\n",
       "        text-align: right;\n",
       "    }\n",
       "</style>\n",
       "<table border=\"1\" class=\"dataframe\">\n",
       "  <thead>\n",
       "    <tr style=\"text-align: right;\">\n",
       "      <th></th>\n",
       "      <th>const</th>\n",
       "      <th>diagonal</th>\n",
       "      <th>height_left</th>\n",
       "      <th>height_right</th>\n",
       "      <th>margin_up</th>\n",
       "      <th>length</th>\n",
       "    </tr>\n",
       "  </thead>\n",
       "  <tbody>\n",
       "    <tr>\n",
       "      <th>0</th>\n",
       "      <td>1.0</td>\n",
       "      <td>171.81</td>\n",
       "      <td>104.86</td>\n",
       "      <td>104.95</td>\n",
       "      <td>2.89</td>\n",
       "      <td>112.83</td>\n",
       "    </tr>\n",
       "    <tr>\n",
       "      <th>1</th>\n",
       "      <td>1.0</td>\n",
       "      <td>171.46</td>\n",
       "      <td>103.36</td>\n",
       "      <td>103.66</td>\n",
       "      <td>2.99</td>\n",
       "      <td>113.09</td>\n",
       "    </tr>\n",
       "    <tr>\n",
       "      <th>2</th>\n",
       "      <td>1.0</td>\n",
       "      <td>172.69</td>\n",
       "      <td>104.48</td>\n",
       "      <td>103.50</td>\n",
       "      <td>2.94</td>\n",
       "      <td>113.16</td>\n",
       "    </tr>\n",
       "    <tr>\n",
       "      <th>3</th>\n",
       "      <td>1.0</td>\n",
       "      <td>171.36</td>\n",
       "      <td>103.91</td>\n",
       "      <td>103.94</td>\n",
       "      <td>3.01</td>\n",
       "      <td>113.51</td>\n",
       "    </tr>\n",
       "    <tr>\n",
       "      <th>4</th>\n",
       "      <td>1.0</td>\n",
       "      <td>171.73</td>\n",
       "      <td>104.28</td>\n",
       "      <td>103.46</td>\n",
       "      <td>3.48</td>\n",
       "      <td>112.54</td>\n",
       "    </tr>\n",
       "  </tbody>\n",
       "</table>\n",
       "</div>"
      ],
      "text/plain": [
       "   const  diagonal  height_left  height_right  margin_up  length\n",
       "0    1.0    171.81       104.86        104.95       2.89  112.83\n",
       "1    1.0    171.46       103.36        103.66       2.99  113.09\n",
       "2    1.0    172.69       104.48        103.50       2.94  113.16\n",
       "3    1.0    171.36       103.91        103.94       3.01  113.51\n",
       "4    1.0    171.73       104.28        103.46       3.48  112.54"
      ]
     },
     "execution_count": 86,
     "metadata": {},
     "output_type": "execute_result"
    }
   ],
   "source": [
    "## VIF:multicolinéarité :\n",
    "import statsmodels.api as sm\n",
    "\n",
    "Predictors1 = sm.add_constant(data=Predictors)\n",
    "Predictors1.head()\n"
   ]
  },
  {
   "cell_type": "code",
   "execution_count": 87,
   "id": "25185716",
   "metadata": {},
   "outputs": [
    {
     "data": {
      "text/plain": [
       "590198.2388828538"
      ]
     },
     "execution_count": 87,
     "metadata": {},
     "output_type": "execute_result"
    }
   ],
   "source": [
    "## le VIF moyen\n",
    "from statsmodels.stats.outliers_influence import variance_inflation_factor\n",
    "vif = variance_inflation_factor(exog=Predictors1.values, exog_idx=0)\n",
    "vif"
   ]
  },
  {
   "cell_type": "code",
   "execution_count": 88,
   "id": "3782d63f",
   "metadata": {},
   "outputs": [
    {
     "data": {
      "text/html": [
       "<div>\n",
       "<style scoped>\n",
       "    .dataframe tbody tr th:only-of-type {\n",
       "        vertical-align: middle;\n",
       "    }\n",
       "\n",
       "    .dataframe tbody tr th {\n",
       "        vertical-align: top;\n",
       "    }\n",
       "\n",
       "    .dataframe thead th {\n",
       "        text-align: right;\n",
       "    }\n",
       "</style>\n",
       "<table border=\"1\" class=\"dataframe\">\n",
       "  <thead>\n",
       "    <tr style=\"text-align: right;\">\n",
       "      <th></th>\n",
       "      <th>diagonal</th>\n",
       "      <th>height_left</th>\n",
       "      <th>height_right</th>\n",
       "      <th>margin_up</th>\n",
       "      <th>length</th>\n",
       "    </tr>\n",
       "  </thead>\n",
       "  <tbody>\n",
       "    <tr>\n",
       "      <th>diagonal</th>\n",
       "      <td>1.013613</td>\n",
       "      <td>-0.055282</td>\n",
       "      <td>-0.020749</td>\n",
       "      <td>0.018048</td>\n",
       "      <td>-0.118490</td>\n",
       "    </tr>\n",
       "    <tr>\n",
       "      <th>height_left</th>\n",
       "      <td>-0.055282</td>\n",
       "      <td>1.138261</td>\n",
       "      <td>-0.133202</td>\n",
       "      <td>-0.107920</td>\n",
       "      <td>0.253285</td>\n",
       "    </tr>\n",
       "    <tr>\n",
       "      <th>height_right</th>\n",
       "      <td>-0.020749</td>\n",
       "      <td>-0.133202</td>\n",
       "      <td>1.230115</td>\n",
       "      <td>-0.147994</td>\n",
       "      <td>0.380395</td>\n",
       "    </tr>\n",
       "    <tr>\n",
       "      <th>margin_up</th>\n",
       "      <td>0.018048</td>\n",
       "      <td>-0.107920</td>\n",
       "      <td>-0.147994</td>\n",
       "      <td>1.404404</td>\n",
       "      <td>0.636317</td>\n",
       "    </tr>\n",
       "    <tr>\n",
       "      <th>length</th>\n",
       "      <td>-0.118490</td>\n",
       "      <td>0.253285</td>\n",
       "      <td>0.380395</td>\n",
       "      <td>0.636317</td>\n",
       "      <td>1.576950</td>\n",
       "    </tr>\n",
       "  </tbody>\n",
       "</table>\n",
       "</div>"
      ],
      "text/plain": [
       "              diagonal  height_left  height_right  margin_up    length\n",
       "diagonal      1.013613    -0.055282     -0.020749   0.018048 -0.118490\n",
       "height_left  -0.055282     1.138261     -0.133202  -0.107920  0.253285\n",
       "height_right -0.020749    -0.133202      1.230115  -0.147994  0.380395\n",
       "margin_up     0.018048    -0.107920     -0.147994   1.404404  0.636317\n",
       "length       -0.118490     0.253285      0.380395   0.636317  1.576950"
      ]
     },
     "execution_count": 88,
     "metadata": {},
     "output_type": "execute_result"
    }
   ],
   "source": [
    "## c'est le VIF pour chaqu'une des variables.\n",
    "## il y a pas de colinéralité entre les variables\n",
    "ivaricor = np.linalg.inv(a = Predictors.corr())\n",
    "ivaricor = pd.DataFrame(data=ivaricor, index=Predictors.columns, columns=Predictors.columns)\n",
    "ivaricor"
   ]
  },
  {
   "cell_type": "raw",
   "id": "06ff9609",
   "metadata": {},
   "source": [
    "La valeur du VIF commence à 1 et n'a pas de limite supérieure. Une règle générale d'interprétation des VIF est la suivante:\n",
    "- Une valeur de 1 indique qu'il n'y a aucune corrélation entre une variable explicative donnée \n",
    "    et toute autre variable explicative du modèle.\n",
    "- Une valeur comprise entre 1 et 5 indique une corrélation modérée entre une variable explicative donnée et\n",
    "    les autres variables explicatives du modèle, \n",
    "    mais cette corrélation n'est souvent pas assez grave pour nécessiter une attention particulière.\n",
    "- Une valeur supérieure à 5 indique une corrélation potentiellement grave entre une variable explicative donnée et\n",
    "    d'autres variables explicatives du modèle.\n",
    "    Dans ce cas, les estimations des coefficients et \n",
    "    les valeurs p dans le résultat de la régression ne sont probablement pas fiables.\n"
   ]
  },
  {
   "cell_type": "code",
   "execution_count": 89,
   "id": "a88ffd36",
   "metadata": {},
   "outputs": [
    {
     "name": "stdout",
     "output_type": "stream",
     "text": [
      "<class 'pandas.core.frame.DataFrame'>\n",
      "Int64Index: 1463 entries, 0 to 1499\n",
      "Data columns (total 7 columns):\n",
      " #   Column        Non-Null Count  Dtype  \n",
      "---  ------        --------------  -----  \n",
      " 0   is_genuine    1463 non-null   bool   \n",
      " 1   diagonal      1463 non-null   float64\n",
      " 2   height_left   1463 non-null   float64\n",
      " 3   height_right  1463 non-null   float64\n",
      " 4   margin_low    1463 non-null   float64\n",
      " 5   margin_up     1463 non-null   float64\n",
      " 6   length        1463 non-null   float64\n",
      "dtypes: bool(1), float64(6)\n",
      "memory usage: 81.4 KB\n"
     ]
    }
   ],
   "source": [
    "## c'est le jeu de données que l'on creer pour notre imputation de données\n",
    "Imputbillet=billet[billet.margin_low.notnull()]\n",
    "Imputbillet.info()"
   ]
  },
  {
   "cell_type": "markdown",
   "id": "3e58ff49",
   "metadata": {},
   "source": [
    "# C-Modéle de regression linéaire"
   ]
  },
  {
   "cell_type": "raw",
   "id": "d4c2b891",
   "metadata": {},
   "source": [
    "Le modèle de régression linéaire est un type de modèle statistique utilisé pour prédire une variable dépendante à partir d'une ou plusieurs variables indépendantes. C'est un modèle de prédiction simple et largement utilisé pour comprendre la relation entre des variables quantitatives."
   ]
  },
  {
   "cell_type": "code",
   "execution_count": 90,
   "id": "814f2e4b",
   "metadata": {},
   "outputs": [
    {
     "name": "stderr",
     "output_type": "stream",
     "text": [
      "C:\\Users\\hotsa\\anaconda3\\lib\\site-packages\\statsmodels\\tsa\\tsatools.py:142: FutureWarning: In a future version of pandas all arguments of concat except for the argument 'objs' will be keyword-only\n",
      "  x = pd.concat(x[::order], 1)\n"
     ]
    },
    {
     "data": {
      "text/html": [
       "<table class=\"simpletable\">\n",
       "<caption>OLS Regression Results</caption>\n",
       "<tr>\n",
       "  <th>Dep. Variable:</th>       <td>margin_low</td>    <th>  R-squared:         </th> <td>   0.477</td> \n",
       "</tr>\n",
       "<tr>\n",
       "  <th>Model:</th>                   <td>OLS</td>       <th>  Adj. R-squared:    </th> <td>   0.476</td> \n",
       "</tr>\n",
       "<tr>\n",
       "  <th>Method:</th>             <td>Least Squares</td>  <th>  F-statistic:       </th> <td>   266.1</td> \n",
       "</tr>\n",
       "<tr>\n",
       "  <th>Date:</th>             <td>Thu, 09 Feb 2023</td> <th>  Prob (F-statistic):</th> <td>2.60e-202</td>\n",
       "</tr>\n",
       "<tr>\n",
       "  <th>Time:</th>                 <td>14:27:23</td>     <th>  Log-Likelihood:    </th> <td> -1001.3</td> \n",
       "</tr>\n",
       "<tr>\n",
       "  <th>No. Observations:</th>      <td>  1463</td>      <th>  AIC:               </th> <td>   2015.</td> \n",
       "</tr>\n",
       "<tr>\n",
       "  <th>Df Residuals:</th>          <td>  1457</td>      <th>  BIC:               </th> <td>   2046.</td> \n",
       "</tr>\n",
       "<tr>\n",
       "  <th>Df Model:</th>              <td>     5</td>      <th>                     </th>     <td> </td>    \n",
       "</tr>\n",
       "<tr>\n",
       "  <th>Covariance Type:</th>      <td>nonrobust</td>    <th>                     </th>     <td> </td>    \n",
       "</tr>\n",
       "</table>\n",
       "<table class=\"simpletable\">\n",
       "<tr>\n",
       "        <td></td>          <th>coef</th>     <th>std err</th>      <th>t</th>      <th>P>|t|</th>  <th>[0.025</th>    <th>0.975]</th>  \n",
       "</tr>\n",
       "<tr>\n",
       "  <th>const</th>        <td>   22.9948</td> <td>    9.656</td> <td>    2.382</td> <td> 0.017</td> <td>    4.055</td> <td>   41.935</td>\n",
       "</tr>\n",
       "<tr>\n",
       "  <th>diagonal</th>     <td>   -0.1111</td> <td>    0.041</td> <td>   -2.680</td> <td> 0.007</td> <td>   -0.192</td> <td>   -0.030</td>\n",
       "</tr>\n",
       "<tr>\n",
       "  <th>height_left</th>  <td>    0.1841</td> <td>    0.045</td> <td>    4.113</td> <td> 0.000</td> <td>    0.096</td> <td>    0.272</td>\n",
       "</tr>\n",
       "<tr>\n",
       "  <th>height_right</th> <td>    0.2571</td> <td>    0.043</td> <td>    5.978</td> <td> 0.000</td> <td>    0.173</td> <td>    0.342</td>\n",
       "</tr>\n",
       "<tr>\n",
       "  <th>margin_up</th>    <td>    0.2562</td> <td>    0.064</td> <td>    3.980</td> <td> 0.000</td> <td>    0.130</td> <td>    0.382</td>\n",
       "</tr>\n",
       "<tr>\n",
       "  <th>length</th>       <td>   -0.4091</td> <td>    0.018</td> <td>  -22.627</td> <td> 0.000</td> <td>   -0.445</td> <td>   -0.374</td>\n",
       "</tr>\n",
       "</table>\n",
       "<table class=\"simpletable\">\n",
       "<tr>\n",
       "  <th>Omnibus:</th>       <td>73.627</td> <th>  Durbin-Watson:     </th> <td>   1.893</td>\n",
       "</tr>\n",
       "<tr>\n",
       "  <th>Prob(Omnibus):</th> <td> 0.000</td> <th>  Jarque-Bera (JB):  </th> <td>  95.862</td>\n",
       "</tr>\n",
       "<tr>\n",
       "  <th>Skew:</th>          <td> 0.482</td> <th>  Prob(JB):          </th> <td>1.53e-21</td>\n",
       "</tr>\n",
       "<tr>\n",
       "  <th>Kurtosis:</th>      <td> 3.801</td> <th>  Cond. No.          </th> <td>1.94e+05</td>\n",
       "</tr>\n",
       "</table><br/><br/>Notes:<br/>[1] Standard Errors assume that the covariance matrix of the errors is correctly specified.<br/>[2] The condition number is large, 1.94e+05. This might indicate that there are<br/>strong multicollinearity or other numerical problems."
      ],
      "text/plain": [
       "<class 'statsmodels.iolib.summary.Summary'>\n",
       "\"\"\"\n",
       "                            OLS Regression Results                            \n",
       "==============================================================================\n",
       "Dep. Variable:             margin_low   R-squared:                       0.477\n",
       "Model:                            OLS   Adj. R-squared:                  0.476\n",
       "Method:                 Least Squares   F-statistic:                     266.1\n",
       "Date:                Thu, 09 Feb 2023   Prob (F-statistic):          2.60e-202\n",
       "Time:                        14:27:23   Log-Likelihood:                -1001.3\n",
       "No. Observations:                1463   AIC:                             2015.\n",
       "Df Residuals:                    1457   BIC:                             2046.\n",
       "Df Model:                           5                                         \n",
       "Covariance Type:            nonrobust                                         \n",
       "================================================================================\n",
       "                   coef    std err          t      P>|t|      [0.025      0.975]\n",
       "--------------------------------------------------------------------------------\n",
       "const           22.9948      9.656      2.382      0.017       4.055      41.935\n",
       "diagonal        -0.1111      0.041     -2.680      0.007      -0.192      -0.030\n",
       "height_left      0.1841      0.045      4.113      0.000       0.096       0.272\n",
       "height_right     0.2571      0.043      5.978      0.000       0.173       0.342\n",
       "margin_up        0.2562      0.064      3.980      0.000       0.130       0.382\n",
       "length          -0.4091      0.018    -22.627      0.000      -0.445      -0.374\n",
       "==============================================================================\n",
       "Omnibus:                       73.627   Durbin-Watson:                   1.893\n",
       "Prob(Omnibus):                  0.000   Jarque-Bera (JB):               95.862\n",
       "Skew:                           0.482   Prob(JB):                     1.53e-21\n",
       "Kurtosis:                       3.801   Cond. No.                     1.94e+05\n",
       "==============================================================================\n",
       "\n",
       "Notes:\n",
       "[1] Standard Errors assume that the covariance matrix of the errors is correctly specified.\n",
       "[2] The condition number is large, 1.94e+05. This might indicate that there are\n",
       "strong multicollinearity or other numerical problems.\n",
       "\"\"\""
      ]
     },
     "execution_count": 90,
     "metadata": {},
     "output_type": "execute_result"
    }
   ],
   "source": [
    "## on fait le modéle lineaire ici\n",
    "## lm2 =model lineaire\n",
    "import statsmodels.api as sm\n",
    "## Adding constant (No constant is added by the model unless you are using formulas)\n",
    "Xc = sm.add_constant(Predictors)\n",
    "lm2 = sm.OLS(Y, Xc)\n",
    "res = lm2.fit()\n",
    "res.summary()\n",
    "\n",
    "## sur python model.fit est \n",
    "## comprendre les resultats ci dessous"
   ]
  },
  {
   "cell_type": "markdown",
   "id": "ac378823",
   "metadata": {},
   "source": [
    "### R squared"
   ]
  },
  {
   "cell_type": "raw",
   "id": "48adcf78",
   "metadata": {},
   "source": [
    "Le coefficient de détermination (R²) est un indicateur statistique qui mesure la proportion de variation de la variable dépendante qui peut être expliquée par la variable indépendante. Il est utilisé pour évaluer la qualité de la prédiction d'un modèle de régression."
   ]
  },
  {
   "cell_type": "raw",
   "id": "3c737168",
   "metadata": {},
   "source": [
    "Un R² de 0.477 signifie que 47.7% de la variance de la variable dépendante peut être expliquée par les variables indépendantes dans le modèle. Cela signifie que le modèle peut expliquer une partie de la variation de la variable dépendante, mais il y a encore une partie de la variation qui reste inexpliquée.\n",
    "\n",
    "Un R² proche de 1 indique que le modèle est fortement corrélé avec la variable dépendante et peut expliquer une grande partie de sa variation. À l'inverse, un R² proche de 0 indique que le modèle n'a qu'une faible corrélation avec la variable dépendante et ne peut pas expliquer sa variation de manière significative."
   ]
  },
  {
   "cell_type": "markdown",
   "id": "7e1d851e",
   "metadata": {},
   "source": [
    "### L'Homoscédasticité  (deuxieme hypothèses de validité)"
   ]
  },
  {
   "cell_type": "raw",
   "id": "230619d1",
   "metadata": {},
   "source": [
    "L'homoscédasticité signifie que la variance des résidus est la même pour toutes les observations. Si ce n'est pas le cas, les erreurs d'estimation peuvent être plus grandes pour certaines observations que pour d'autres. Il est important de vérifier l'homoscédasticité pour garantir la validité des hypothèses sous-jacentes au modèle de régression linéaire."
   ]
  },
  {
   "cell_type": "code",
   "execution_count": 91,
   "id": "6195070c",
   "metadata": {},
   "outputs": [
    {
     "name": "stdout",
     "output_type": "stream",
     "text": [
      "0      -0.268676\n",
      "1      -0.368908\n",
      "2       0.274067\n",
      "3      -0.536580\n",
      "4      -0.537425\n",
      "          ...   \n",
      "1495   -0.771741\n",
      "1496   -0.186887\n",
      "1497    0.609723\n",
      "1498    0.361426\n",
      "1499   -0.209032\n",
      "Length: 1463, dtype: float64\n"
     ]
    }
   ],
   "source": [
    "import scipy.stats as stats\n",
    "import statsmodels.api as sm\n",
    "\n",
    "# calculate the residuals\n",
    "residuals = res.resid\n",
    "print(residuals)"
   ]
  },
  {
   "cell_type": "code",
   "execution_count": 92,
   "id": "70e43186",
   "metadata": {},
   "outputs": [
    {
     "data": {
      "text/plain": [
       "(80.16261280174714,\n",
       " 7.7595352162076815e-16,\n",
       " 16.892358846152728,\n",
       " 2.92274965662674e-16)"
      ]
     },
     "execution_count": 92,
     "metadata": {},
     "output_type": "execute_result"
    }
   ],
   "source": [
    "## perform Bartlett's test on the residuals\n",
    "\n",
    "import statsmodels.stats.api as sms\n",
    "test = sms.het_breuschpagan(res.resid, res.model.exog)\n",
    "test\n",
    "## la p valeur de se test est la deuximent ligne"
   ]
  },
  {
   "cell_type": "raw",
   "id": "d8083364",
   "metadata": {},
   "source": [
    "largement inferieur a 0.05\n",
    "je rejet H0 = il y a de Homoscédasticité\n",
    "Il y a de l'hetescédasticité\n",
    "les hypotheses sous jacent de mon modele ne sont pas verifié."
   ]
  },
  {
   "cell_type": "markdown",
   "id": "2475881e",
   "metadata": {},
   "source": [
    "### Normalité des résidus (troisiéme hypothèses de validité)"
   ]
  },
  {
   "cell_type": "raw",
   "id": "54a99c9b",
   "metadata": {},
   "source": [
    "La normalité des résidus est également une hypothèse importante pour la régression linéaire, car elle permet de faire des inférences statistiques sur les erreurs d'estimation. Si les résidus ne suivent pas une distribution normale, il peut être nécessaire de transformer les données ou d'utiliser un autre modèle."
   ]
  },
  {
   "cell_type": "raw",
   "id": "2fc01989",
   "metadata": {},
   "source": [
    "h0 suit la loi normal \n",
    "h1 les residu ne suivent pas la loi normal"
   ]
  },
  {
   "cell_type": "code",
   "execution_count": 93,
   "id": "7806b103",
   "metadata": {},
   "outputs": [
    {
     "name": "stdout",
     "output_type": "stream",
     "text": [
      "p-value: 8.536943374437556e-11\n"
     ]
    }
   ],
   "source": [
    "import scipy.stats as stats\n",
    "\n",
    "# perform Shapiro-Wilk test on the residuals\n",
    "statistic, p_value = stats.shapiro(residuals)\n",
    "\n",
    "# print the p-value\n",
    "print(\"p-value:\", p_value)"
   ]
  },
  {
   "cell_type": "code",
   "execution_count": 94,
   "id": "d1ab359c",
   "metadata": {},
   "outputs": [
    {
     "data": {
      "text/plain": [
       "(array([  9.,  45., 181., 429., 409., 224., 113.,  36.,  10.,   7.]),\n",
       " array([-1.47234153, -1.12802376, -0.78370599, -0.43938822, -0.09507044,\n",
       "         0.24924733,  0.5935651 ,  0.93788287,  1.28220064,  1.62651842,\n",
       "         1.97083619]),\n",
       " <BarContainer object of 10 artists>)"
      ]
     },
     "execution_count": 94,
     "metadata": {},
     "output_type": "execute_result"
    },
    {
     "data": {
      "image/png": "[encoded data removed]",
      "text/plain": [
       "<Figure size 432x288 with 1 Axes>"
      ]
     },
     "metadata": {
      "needs_background": "light"
     },
     "output_type": "display_data"
    }
   ],
   "source": [
    "plt.hist(residuals)"
   ]
  },
  {
   "cell_type": "raw",
   "id": "02c1eedf",
   "metadata": {},
   "source": [
    "Le p-value d'un test statistique représente la probabilité que les résultats observés soient dus au hasard si l'hypothèse nulle est vraie. Si le p-value est très petit (inférieur à un seuil critique déterminé, généralement 0,05 ou 0,01), il est considéré comme statistiquement significatif et il est alors rejeté l'hypothèse nulle.\n",
    "\n",
    "Dans le cas d'un test de normalité des résidus, l'hypothèse nulle est que les résidus suivent une distribution normale. Si le p-value est inférieur à un seuil critique, il est alors considéré que les résidus ne suivent pas une distribution normale et il est nécessaire de faire des ajustements supplémentaires à votre modèle de régression linéaire.\n",
    "\n",
    "Dans votre cas, avec un p-value de 8.536943374437556e-11, il est statistiquement significatif et on peut en déduire que les résidus de votre modèle de régression linéaire ne suivent pas une distribution normale. Il est donc nécessaire de faire des ajustements supplémentaires à votre modèle."
   ]
  },
  {
   "cell_type": "code",
   "execution_count": 95,
   "id": "02b81400",
   "metadata": {},
   "outputs": [
    {
     "name": "stdout",
     "output_type": "stream",
     "text": [
      "                            OLS Regression Results                            \n",
      "==============================================================================\n",
      "Dep. Variable:             margin_low   R-squared:                       0.477\n",
      "Model:                            OLS   Adj. R-squared:                  0.476\n",
      "Method:                 Least Squares   F-statistic:                     266.1\n",
      "Date:                Thu, 09 Feb 2023   Prob (F-statistic):          2.60e-202\n",
      "Time:                        14:27:24   Log-Likelihood:                -1001.3\n",
      "No. Observations:                1463   AIC:                             2015.\n",
      "Df Residuals:                    1457   BIC:                             2046.\n",
      "Df Model:                           5                                         \n",
      "Covariance Type:            nonrobust                                         \n",
      "================================================================================\n",
      "                   coef    std err          t      P>|t|      [0.025      0.975]\n",
      "--------------------------------------------------------------------------------\n",
      "const           22.9948      9.656      2.382      0.017       4.055      41.935\n",
      "diagonal        -0.1111      0.041     -2.680      0.007      -0.192      -0.030\n",
      "height_left      0.1841      0.045      4.113      0.000       0.096       0.272\n",
      "height_right     0.2571      0.043      5.978      0.000       0.173       0.342\n",
      "margin_up        0.2562      0.064      3.980      0.000       0.130       0.382\n",
      "length          -0.4091      0.018    -22.627      0.000      -0.445      -0.374\n",
      "==============================================================================\n",
      "Omnibus:                       73.627   Durbin-Watson:                   1.893\n",
      "Prob(Omnibus):                  0.000   Jarque-Bera (JB):               95.862\n",
      "Skew:                           0.482   Prob(JB):                     1.53e-21\n",
      "Kurtosis:                       3.801   Cond. No.                     1.94e+05\n",
      "==============================================================================\n",
      "\n",
      "Notes:\n",
      "[1] Standard Errors assume that the covariance matrix of the errors is correctly specified.\n",
      "[2] The condition number is large, 1.94e+05. This might indicate that there are\n",
      "strong multicollinearity or other numerical problems.\n"
     ]
    }
   ],
   "source": [
    "print(res.summary())"
   ]
  },
  {
   "cell_type": "raw",
   "id": "535dd0a9",
   "metadata": {},
   "source": [
    "le coefficient sont significativement differente de zero si la p valeur est inferieurs a 0.05 =5%"
   ]
  },
  {
   "cell_type": "code",
   "execution_count": 96,
   "id": "d3c36d8e",
   "metadata": {},
   "outputs": [
    {
     "data": {
      "text/plain": [
       "array([4.78867649, 4.13890773, 4.12593262, ..., 4.90027735, 4.80857449,\n",
       "       4.83903233])"
      ]
     },
     "execution_count": 96,
     "metadata": {},
     "output_type": "execute_result"
    }
   ],
   "source": [
    "res.predict()"
   ]
  },
  {
   "cell_type": "code",
   "execution_count": 97,
   "id": "0b81bc05",
   "metadata": {},
   "outputs": [
    {
     "data": {
      "text/plain": [
       "const           22.994843\n",
       "diagonal        -0.111060\n",
       "height_left      0.184122\n",
       "height_right     0.257138\n",
       "margin_up        0.256188\n",
       "length          -0.409103\n",
       "dtype: float64"
      ]
     },
     "execution_count": 97,
     "metadata": {},
     "output_type": "execute_result"
    }
   ],
   "source": [
    "## Pour obtenir les coeff\n",
    "res.params"
   ]
  },
  {
   "cell_type": "markdown",
   "id": "05898242",
   "metadata": {},
   "source": [
    "# D-L'imputation"
   ]
  },
  {
   "cell_type": "raw",
   "id": "13f4d8e9",
   "metadata": {},
   "source": [
    "L'imputation est l'insertion des données que l'on a retrouvé grace à la regression linéaire.\n",
    "La régression linéaire est une méthode de prédiction utilisée pour trouver la relation entre une variable indépendante et une variable dépendante en utilisant une droite. C'est un modèle continu qui peut prédire n'importe quelle valeur dans l'intervalle de données."
   ]
  },
  {
   "cell_type": "code",
   "execution_count": 98,
   "id": "ad46141d",
   "metadata": {},
   "outputs": [
    {
     "data": {
      "text/html": [
       "<div>\n",
       "<style scoped>\n",
       "    .dataframe tbody tr th:only-of-type {\n",
       "        vertical-align: middle;\n",
       "    }\n",
       "\n",
       "    .dataframe tbody tr th {\n",
       "        vertical-align: top;\n",
       "    }\n",
       "\n",
       "    .dataframe thead th {\n",
       "        text-align: right;\n",
       "    }\n",
       "</style>\n",
       "<table border=\"1\" class=\"dataframe\">\n",
       "  <thead>\n",
       "    <tr style=\"text-align: right;\">\n",
       "      <th></th>\n",
       "      <th>is_genuine</th>\n",
       "      <th>diagonal</th>\n",
       "      <th>height_left</th>\n",
       "      <th>height_right</th>\n",
       "      <th>margin_low</th>\n",
       "      <th>margin_up</th>\n",
       "      <th>length</th>\n",
       "    </tr>\n",
       "  </thead>\n",
       "  <tbody>\n",
       "    <tr>\n",
       "      <th>72</th>\n",
       "      <td>True</td>\n",
       "      <td>171.94</td>\n",
       "      <td>103.89</td>\n",
       "      <td>103.45</td>\n",
       "      <td>NaN</td>\n",
       "      <td>3.25</td>\n",
       "      <td>112.79</td>\n",
       "    </tr>\n",
       "    <tr>\n",
       "      <th>99</th>\n",
       "      <td>True</td>\n",
       "      <td>171.93</td>\n",
       "      <td>104.07</td>\n",
       "      <td>104.18</td>\n",
       "      <td>NaN</td>\n",
       "      <td>3.14</td>\n",
       "      <td>113.08</td>\n",
       "    </tr>\n",
       "    <tr>\n",
       "      <th>151</th>\n",
       "      <td>True</td>\n",
       "      <td>172.07</td>\n",
       "      <td>103.80</td>\n",
       "      <td>104.38</td>\n",
       "      <td>NaN</td>\n",
       "      <td>3.02</td>\n",
       "      <td>112.93</td>\n",
       "    </tr>\n",
       "    <tr>\n",
       "      <th>197</th>\n",
       "      <td>True</td>\n",
       "      <td>171.45</td>\n",
       "      <td>103.66</td>\n",
       "      <td>103.80</td>\n",
       "      <td>NaN</td>\n",
       "      <td>3.62</td>\n",
       "      <td>113.27</td>\n",
       "    </tr>\n",
       "    <tr>\n",
       "      <th>241</th>\n",
       "      <td>True</td>\n",
       "      <td>171.83</td>\n",
       "      <td>104.14</td>\n",
       "      <td>104.06</td>\n",
       "      <td>NaN</td>\n",
       "      <td>3.02</td>\n",
       "      <td>112.36</td>\n",
       "    </tr>\n",
       "  </tbody>\n",
       "</table>\n",
       "</div>"
      ],
      "text/plain": [
       "     is_genuine  diagonal  height_left  height_right  margin_low  margin_up  \\\n",
       "72         True    171.94       103.89        103.45         NaN       3.25   \n",
       "99         True    171.93       104.07        104.18         NaN       3.14   \n",
       "151        True    172.07       103.80        104.38         NaN       3.02   \n",
       "197        True    171.45       103.66        103.80         NaN       3.62   \n",
       "241        True    171.83       104.14        104.06         NaN       3.02   \n",
       "\n",
       "     length  \n",
       "72   112.79  \n",
       "99   113.08  \n",
       "151  112.93  \n",
       "197  113.27  \n",
       "241  112.36  "
      ]
     },
     "execution_count": 98,
     "metadata": {},
     "output_type": "execute_result"
    }
   ],
   "source": [
    "MarManquant=billet[billet.margin_low.isnull()]\n",
    "MarManquant.head()"
   ]
  },
  {
   "cell_type": "code",
   "execution_count": 99,
   "id": "c5acfd28",
   "metadata": {},
   "outputs": [
    {
     "name": "stderr",
     "output_type": "stream",
     "text": [
      "C:\\Users\\hotsa\\anaconda3\\lib\\site-packages\\statsmodels\\tsa\\tsatools.py:142: FutureWarning: In a future version of pandas all arguments of concat except for the argument 'objs' will be keyword-only\n",
      "  x = pd.concat(x[::order], 1)\n"
     ]
    },
    {
     "data": {
      "text/html": [
       "<div>\n",
       "<style scoped>\n",
       "    .dataframe tbody tr th:only-of-type {\n",
       "        vertical-align: middle;\n",
       "    }\n",
       "\n",
       "    .dataframe tbody tr th {\n",
       "        vertical-align: top;\n",
       "    }\n",
       "\n",
       "    .dataframe thead th {\n",
       "        text-align: right;\n",
       "    }\n",
       "</style>\n",
       "<table border=\"1\" class=\"dataframe\">\n",
       "  <thead>\n",
       "    <tr style=\"text-align: right;\">\n",
       "      <th></th>\n",
       "      <th>const</th>\n",
       "      <th>diagonal</th>\n",
       "      <th>height_left</th>\n",
       "      <th>height_right</th>\n",
       "      <th>margin_up</th>\n",
       "      <th>length</th>\n",
       "    </tr>\n",
       "  </thead>\n",
       "  <tbody>\n",
       "    <tr>\n",
       "      <th>72</th>\n",
       "      <td>1.0</td>\n",
       "      <td>171.94</td>\n",
       "      <td>103.89</td>\n",
       "      <td>103.45</td>\n",
       "      <td>3.25</td>\n",
       "      <td>112.79</td>\n",
       "    </tr>\n",
       "    <tr>\n",
       "      <th>99</th>\n",
       "      <td>1.0</td>\n",
       "      <td>171.93</td>\n",
       "      <td>104.07</td>\n",
       "      <td>104.18</td>\n",
       "      <td>3.14</td>\n",
       "      <td>113.08</td>\n",
       "    </tr>\n",
       "    <tr>\n",
       "      <th>151</th>\n",
       "      <td>1.0</td>\n",
       "      <td>172.07</td>\n",
       "      <td>103.80</td>\n",
       "      <td>104.38</td>\n",
       "      <td>3.02</td>\n",
       "      <td>112.93</td>\n",
       "    </tr>\n",
       "    <tr>\n",
       "      <th>197</th>\n",
       "      <td>1.0</td>\n",
       "      <td>171.45</td>\n",
       "      <td>103.66</td>\n",
       "      <td>103.80</td>\n",
       "      <td>3.62</td>\n",
       "      <td>113.27</td>\n",
       "    </tr>\n",
       "    <tr>\n",
       "      <th>241</th>\n",
       "      <td>1.0</td>\n",
       "      <td>171.83</td>\n",
       "      <td>104.14</td>\n",
       "      <td>104.06</td>\n",
       "      <td>3.02</td>\n",
       "      <td>112.36</td>\n",
       "    </tr>\n",
       "  </tbody>\n",
       "</table>\n",
       "</div>"
      ],
      "text/plain": [
       "     const  diagonal  height_left  height_right  margin_up  length\n",
       "72     1.0    171.94       103.89        103.45       3.25  112.79\n",
       "99     1.0    171.93       104.07        104.18       3.14  113.08\n",
       "151    1.0    172.07       103.80        104.38       3.02  112.93\n",
       "197    1.0    171.45       103.66        103.80       3.62  113.27\n",
       "241    1.0    171.83       104.14        104.06       3.02  112.36"
      ]
     },
     "execution_count": 99,
     "metadata": {},
     "output_type": "execute_result"
    }
   ],
   "source": [
    "## supprimer les colonnes pas necessaires\n",
    "Predic=MarManquant.drop(columns=[\"margin_low\",\"is_genuine\"])\n",
    "## ajout de la constante\n",
    "Predic=sm.add_constant(Predic)\n",
    "Predic.head()"
   ]
  },
  {
   "cell_type": "code",
   "execution_count": 100,
   "id": "b60a0a30",
   "metadata": {},
   "outputs": [
    {
     "data": {
      "text/plain": [
       "array([4.31852466, 4.39366755, 4.41045663, 4.31901423, 4.6506171 ,\n",
       "       3.80330831, 4.17973608, 4.12744154, 4.13503418, 4.16053851,\n",
       "       4.17742026, 3.76855378, 4.05876385, 4.29804709, 4.16060746,\n",
       "       4.09406453, 4.43984627, 4.47065037, 4.34164322, 4.08041448,\n",
       "       3.61430588, 4.37181147, 4.09362068, 4.24962896, 3.89374829,\n",
       "       3.74633265, 4.23741481, 4.71053287, 4.13778022, 5.05027715,\n",
       "       4.80214523, 5.067584  , 5.04756967, 4.77896717, 5.726993  ,\n",
       "       5.18586214, 5.14004269])"
      ]
     },
     "execution_count": 100,
     "metadata": {},
     "output_type": "execute_result"
    }
   ],
   "source": [
    "res.predict(exog=Predic.values)\n",
    "## chercher a predire"
   ]
  },
  {
   "cell_type": "code",
   "execution_count": 101,
   "id": "c05a3600",
   "metadata": {},
   "outputs": [
    {
     "name": "stderr",
     "output_type": "stream",
     "text": [
      "C:\\Users\\hotsa\\AppData\\Local\\Temp/ipykernel_19052/2987818556.py:1: SettingWithCopyWarning: \n",
      "A value is trying to be set on a copy of a slice from a DataFrame.\n",
      "Try using .loc[row_indexer,col_indexer] = value instead\n",
      "\n",
      "See the caveats in the documentation: https://pandas.pydata.org/pandas-docs/stable/user_guide/indexing.html#returning-a-view-versus-a-copy\n",
      "  MarManquant[\"margin_low\"]=res.predict(exog=Predic.values)\n"
     ]
    },
    {
     "data": {
      "text/html": [
       "<div>\n",
       "<style scoped>\n",
       "    .dataframe tbody tr th:only-of-type {\n",
       "        vertical-align: middle;\n",
       "    }\n",
       "\n",
       "    .dataframe tbody tr th {\n",
       "        vertical-align: top;\n",
       "    }\n",
       "\n",
       "    .dataframe thead th {\n",
       "        text-align: right;\n",
       "    }\n",
       "</style>\n",
       "<table border=\"1\" class=\"dataframe\">\n",
       "  <thead>\n",
       "    <tr style=\"text-align: right;\">\n",
       "      <th></th>\n",
       "      <th>is_genuine</th>\n",
       "      <th>diagonal</th>\n",
       "      <th>height_left</th>\n",
       "      <th>height_right</th>\n",
       "      <th>margin_low</th>\n",
       "      <th>margin_up</th>\n",
       "      <th>length</th>\n",
       "    </tr>\n",
       "  </thead>\n",
       "  <tbody>\n",
       "    <tr>\n",
       "      <th>72</th>\n",
       "      <td>True</td>\n",
       "      <td>171.94</td>\n",
       "      <td>103.89</td>\n",
       "      <td>103.45</td>\n",
       "      <td>4.318525</td>\n",
       "      <td>3.25</td>\n",
       "      <td>112.79</td>\n",
       "    </tr>\n",
       "    <tr>\n",
       "      <th>99</th>\n",
       "      <td>True</td>\n",
       "      <td>171.93</td>\n",
       "      <td>104.07</td>\n",
       "      <td>104.18</td>\n",
       "      <td>4.393668</td>\n",
       "      <td>3.14</td>\n",
       "      <td>113.08</td>\n",
       "    </tr>\n",
       "    <tr>\n",
       "      <th>151</th>\n",
       "      <td>True</td>\n",
       "      <td>172.07</td>\n",
       "      <td>103.80</td>\n",
       "      <td>104.38</td>\n",
       "      <td>4.410457</td>\n",
       "      <td>3.02</td>\n",
       "      <td>112.93</td>\n",
       "    </tr>\n",
       "    <tr>\n",
       "      <th>197</th>\n",
       "      <td>True</td>\n",
       "      <td>171.45</td>\n",
       "      <td>103.66</td>\n",
       "      <td>103.80</td>\n",
       "      <td>4.319014</td>\n",
       "      <td>3.62</td>\n",
       "      <td>113.27</td>\n",
       "    </tr>\n",
       "    <tr>\n",
       "      <th>241</th>\n",
       "      <td>True</td>\n",
       "      <td>171.83</td>\n",
       "      <td>104.14</td>\n",
       "      <td>104.06</td>\n",
       "      <td>4.650617</td>\n",
       "      <td>3.02</td>\n",
       "      <td>112.36</td>\n",
       "    </tr>\n",
       "  </tbody>\n",
       "</table>\n",
       "</div>"
      ],
      "text/plain": [
       "     is_genuine  diagonal  height_left  height_right  margin_low  margin_up  \\\n",
       "72         True    171.94       103.89        103.45    4.318525       3.25   \n",
       "99         True    171.93       104.07        104.18    4.393668       3.14   \n",
       "151        True    172.07       103.80        104.38    4.410457       3.02   \n",
       "197        True    171.45       103.66        103.80    4.319014       3.62   \n",
       "241        True    171.83       104.14        104.06    4.650617       3.02   \n",
       "\n",
       "     length  \n",
       "72   112.79  \n",
       "99   113.08  \n",
       "151  112.93  \n",
       "197  113.27  \n",
       "241  112.36  "
      ]
     },
     "execution_count": 101,
     "metadata": {},
     "output_type": "execute_result"
    }
   ],
   "source": [
    "MarManquant[\"margin_low\"]=res.predict(exog=Predic.values)\n",
    "MarManquant.head()"
   ]
  },
  {
   "cell_type": "code",
   "execution_count": 102,
   "id": "b525537d",
   "metadata": {},
   "outputs": [
    {
     "data": {
      "text/html": [
       "<div>\n",
       "<style scoped>\n",
       "    .dataframe tbody tr th:only-of-type {\n",
       "        vertical-align: middle;\n",
       "    }\n",
       "\n",
       "    .dataframe tbody tr th {\n",
       "        vertical-align: top;\n",
       "    }\n",
       "\n",
       "    .dataframe thead th {\n",
       "        text-align: right;\n",
       "    }\n",
       "</style>\n",
       "<table border=\"1\" class=\"dataframe\">\n",
       "  <thead>\n",
       "    <tr style=\"text-align: right;\">\n",
       "      <th></th>\n",
       "      <th>is_genuine</th>\n",
       "      <th>diagonal</th>\n",
       "      <th>height_left</th>\n",
       "      <th>height_right</th>\n",
       "      <th>margin_low</th>\n",
       "      <th>margin_up</th>\n",
       "      <th>length</th>\n",
       "    </tr>\n",
       "  </thead>\n",
       "  <tbody>\n",
       "    <tr>\n",
       "      <th>0</th>\n",
       "      <td>True</td>\n",
       "      <td>171.81</td>\n",
       "      <td>104.86</td>\n",
       "      <td>104.95</td>\n",
       "      <td>4.52</td>\n",
       "      <td>2.89</td>\n",
       "      <td>112.83</td>\n",
       "    </tr>\n",
       "    <tr>\n",
       "      <th>1</th>\n",
       "      <td>True</td>\n",
       "      <td>171.46</td>\n",
       "      <td>103.36</td>\n",
       "      <td>103.66</td>\n",
       "      <td>3.77</td>\n",
       "      <td>2.99</td>\n",
       "      <td>113.09</td>\n",
       "    </tr>\n",
       "    <tr>\n",
       "      <th>2</th>\n",
       "      <td>True</td>\n",
       "      <td>172.69</td>\n",
       "      <td>104.48</td>\n",
       "      <td>103.50</td>\n",
       "      <td>4.40</td>\n",
       "      <td>2.94</td>\n",
       "      <td>113.16</td>\n",
       "    </tr>\n",
       "    <tr>\n",
       "      <th>3</th>\n",
       "      <td>True</td>\n",
       "      <td>171.36</td>\n",
       "      <td>103.91</td>\n",
       "      <td>103.94</td>\n",
       "      <td>3.62</td>\n",
       "      <td>3.01</td>\n",
       "      <td>113.51</td>\n",
       "    </tr>\n",
       "    <tr>\n",
       "      <th>4</th>\n",
       "      <td>True</td>\n",
       "      <td>171.73</td>\n",
       "      <td>104.28</td>\n",
       "      <td>103.46</td>\n",
       "      <td>4.04</td>\n",
       "      <td>3.48</td>\n",
       "      <td>112.54</td>\n",
       "    </tr>\n",
       "  </tbody>\n",
       "</table>\n",
       "</div>"
      ],
      "text/plain": [
       "   is_genuine  diagonal  height_left  height_right  margin_low  margin_up  \\\n",
       "0        True    171.81       104.86        104.95        4.52       2.89   \n",
       "1        True    171.46       103.36        103.66        3.77       2.99   \n",
       "2        True    172.69       104.48        103.50        4.40       2.94   \n",
       "3        True    171.36       103.91        103.94        3.62       3.01   \n",
       "4        True    171.73       104.28        103.46        4.04       3.48   \n",
       "\n",
       "   length  \n",
       "0  112.83  \n",
       "1  113.09  \n",
       "2  113.16  \n",
       "3  113.51  \n",
       "4  112.54  "
      ]
     },
     "execution_count": 102,
     "metadata": {},
     "output_type": "execute_result"
    }
   ],
   "source": [
    "## creation d'un nouveau jeu de donnée qui assemble les données manquantes et les données.\n",
    "BilletF=pd.concat([Imputbillet,MarManquant])\n",
    "BilletF.head()"
   ]
  },
  {
   "cell_type": "code",
   "execution_count": 103,
   "id": "5dcf164c",
   "metadata": {},
   "outputs": [
    {
     "data": {
      "text/plain": [
       "True     1000\n",
       "False     500\n",
       "Name: is_genuine, dtype: int64"
      ]
     },
     "execution_count": 103,
     "metadata": {},
     "output_type": "execute_result"
    }
   ],
   "source": [
    "##savoir combien de vraies et faux billets\n",
    "billet.is_genuine.value_counts()"
   ]
  },
  {
   "cell_type": "code",
   "execution_count": 104,
   "id": "2ca2a5fa",
   "metadata": {},
   "outputs": [
    {
     "data": {
      "text/html": [
       "<div>\n",
       "<style scoped>\n",
       "    .dataframe tbody tr th:only-of-type {\n",
       "        vertical-align: middle;\n",
       "    }\n",
       "\n",
       "    .dataframe tbody tr th {\n",
       "        vertical-align: top;\n",
       "    }\n",
       "\n",
       "    .dataframe thead th {\n",
       "        text-align: right;\n",
       "    }\n",
       "</style>\n",
       "<table border=\"1\" class=\"dataframe\">\n",
       "  <thead>\n",
       "    <tr style=\"text-align: right;\">\n",
       "      <th></th>\n",
       "      <th>diagonal</th>\n",
       "      <th>height_left</th>\n",
       "      <th>height_right</th>\n",
       "      <th>margin_low</th>\n",
       "      <th>margin_up</th>\n",
       "      <th>length</th>\n",
       "    </tr>\n",
       "  </thead>\n",
       "  <tbody>\n",
       "    <tr>\n",
       "      <th>count</th>\n",
       "      <td>1500.000000</td>\n",
       "      <td>1500.000000</td>\n",
       "      <td>1500.000000</td>\n",
       "      <td>1463.000000</td>\n",
       "      <td>1500.000000</td>\n",
       "      <td>1500.00000</td>\n",
       "    </tr>\n",
       "    <tr>\n",
       "      <th>mean</th>\n",
       "      <td>171.958440</td>\n",
       "      <td>104.029533</td>\n",
       "      <td>103.920307</td>\n",
       "      <td>4.485967</td>\n",
       "      <td>3.151473</td>\n",
       "      <td>112.67850</td>\n",
       "    </tr>\n",
       "    <tr>\n",
       "      <th>std</th>\n",
       "      <td>0.305195</td>\n",
       "      <td>0.299462</td>\n",
       "      <td>0.325627</td>\n",
       "      <td>0.663813</td>\n",
       "      <td>0.231813</td>\n",
       "      <td>0.87273</td>\n",
       "    </tr>\n",
       "    <tr>\n",
       "      <th>min</th>\n",
       "      <td>171.040000</td>\n",
       "      <td>103.140000</td>\n",
       "      <td>102.820000</td>\n",
       "      <td>2.980000</td>\n",
       "      <td>2.270000</td>\n",
       "      <td>109.49000</td>\n",
       "    </tr>\n",
       "    <tr>\n",
       "      <th>25%</th>\n",
       "      <td>171.750000</td>\n",
       "      <td>103.820000</td>\n",
       "      <td>103.710000</td>\n",
       "      <td>4.015000</td>\n",
       "      <td>2.990000</td>\n",
       "      <td>112.03000</td>\n",
       "    </tr>\n",
       "    <tr>\n",
       "      <th>50%</th>\n",
       "      <td>171.960000</td>\n",
       "      <td>104.040000</td>\n",
       "      <td>103.920000</td>\n",
       "      <td>4.310000</td>\n",
       "      <td>3.140000</td>\n",
       "      <td>112.96000</td>\n",
       "    </tr>\n",
       "    <tr>\n",
       "      <th>75%</th>\n",
       "      <td>172.170000</td>\n",
       "      <td>104.230000</td>\n",
       "      <td>104.150000</td>\n",
       "      <td>4.870000</td>\n",
       "      <td>3.310000</td>\n",
       "      <td>113.34000</td>\n",
       "    </tr>\n",
       "    <tr>\n",
       "      <th>max</th>\n",
       "      <td>173.010000</td>\n",
       "      <td>104.880000</td>\n",
       "      <td>104.950000</td>\n",
       "      <td>6.900000</td>\n",
       "      <td>3.910000</td>\n",
       "      <td>114.44000</td>\n",
       "    </tr>\n",
       "  </tbody>\n",
       "</table>\n",
       "</div>"
      ],
      "text/plain": [
       "          diagonal  height_left  height_right   margin_low    margin_up  \\\n",
       "count  1500.000000  1500.000000   1500.000000  1463.000000  1500.000000   \n",
       "mean    171.958440   104.029533    103.920307     4.485967     3.151473   \n",
       "std       0.305195     0.299462      0.325627     0.663813     0.231813   \n",
       "min     171.040000   103.140000    102.820000     2.980000     2.270000   \n",
       "25%     171.750000   103.820000    103.710000     4.015000     2.990000   \n",
       "50%     171.960000   104.040000    103.920000     4.310000     3.140000   \n",
       "75%     172.170000   104.230000    104.150000     4.870000     3.310000   \n",
       "max     173.010000   104.880000    104.950000     6.900000     3.910000   \n",
       "\n",
       "           length  \n",
       "count  1500.00000  \n",
       "mean    112.67850  \n",
       "std       0.87273  \n",
       "min     109.49000  \n",
       "25%     112.03000  \n",
       "50%     112.96000  \n",
       "75%     113.34000  \n",
       "max     114.44000  "
      ]
     },
     "execution_count": 104,
     "metadata": {},
     "output_type": "execute_result"
    }
   ],
   "source": [
    "##  analyse univarié :obtenir les statistiques de bases par colonnes\n",
    "billet.describe()"
   ]
  },
  {
   "cell_type": "markdown",
   "id": "d5dbf49f",
   "metadata": {},
   "source": [
    "# E-Clustering"
   ]
  },
  {
   "cell_type": "markdown",
   "id": "241ed7f0",
   "metadata": {},
   "source": [
    "### Preparation des données que nous allons utilisé pour le clustering"
   ]
  },
  {
   "cell_type": "code",
   "execution_count": 105,
   "id": "77ddf106",
   "metadata": {},
   "outputs": [
    {
     "data": {
      "text/plain": [
       "(   diagonal  height_left  height_right  margin_low  margin_up  length\n",
       " 0    171.81       104.86        104.95        4.52       2.89  112.83\n",
       " 1    171.46       103.36        103.66        3.77       2.99  113.09\n",
       " 2    172.69       104.48        103.50        4.40       2.94  113.16\n",
       " 3    171.36       103.91        103.94        3.62       3.01  113.51\n",
       " 4    171.73       104.28        103.46        4.04       3.48  112.54,\n",
       " (1500, 6))"
      ]
     },
     "execution_count": 105,
     "metadata": {},
     "output_type": "execute_result"
    }
   ],
   "source": [
    "## on creer le jeu de données pour le clustering\n",
    "## drop permet d'eliminer la colonnes que je n'ai pas besoin\n",
    "BilletClust=BilletF.drop(columns=\"is_genuine\")\n",
    "BilletClust.head(),BilletClust.shape"
   ]
  },
  {
   "cell_type": "code",
   "execution_count": 106,
   "id": "1195a230",
   "metadata": {},
   "outputs": [],
   "source": [
    "## standardiser les données:\n",
    "from sklearn.preprocessing import StandardScaler\n",
    "\n",
    "## conversion en matric numpy\n",
    "X=BilletClust.to_numpy()\n",
    "## clutering; permet de regrouper les pays en fonction des 6 variables en meme temps"
   ]
  },
  {
   "cell_type": "code",
   "execution_count": 107,
   "id": "d25d069d",
   "metadata": {},
   "outputs": [],
   "source": [
    "scaler = StandardScaler()\n",
    "scaled_features = scaler.fit_transform(BilletClust)"
   ]
  },
  {
   "cell_type": "code",
   "execution_count": 108,
   "id": "91f60c30",
   "metadata": {},
   "outputs": [
    {
     "data": {
      "text/plain": [
       "array([[-0.48653957,  2.77412327,  3.16324041,  0.0553898 , -1.128325  ,\n",
       "         0.17365114],\n",
       "       [-1.63372936, -2.23653528, -0.79966777, -1.08198744, -0.69679916,\n",
       "         0.47166629],\n",
       "       [ 2.3978233 ,  1.50475644, -1.29119126, -0.12659056, -0.91256208,\n",
       "         0.55190114],\n",
       "       ...,\n",
       "       [-0.78153123,  1.43794766,  0.61346228,  1.88579829,  1.97866106,\n",
       "        -2.71480344],\n",
       "       [ 2.29949275,  1.00369058,  1.50434862,  1.06517171,  1.76289814,\n",
       "        -1.38519737],\n",
       "       [-0.19154792,  0.83666863,  1.135706  ,  0.99568639,  0.38201544,\n",
       "        -1.36227312]])"
      ]
     },
     "execution_count": 108,
     "metadata": {},
     "output_type": "execute_result"
    }
   ],
   "source": [
    "scaled_features"
   ]
  },
  {
   "cell_type": "markdown",
   "id": "bfd5236d",
   "metadata": {},
   "source": [
    "### Separation des données que l'on va utilisé "
   ]
  },
  {
   "cell_type": "code",
   "execution_count": 109,
   "id": "7bbf0a74",
   "metadata": {},
   "outputs": [
    {
     "data": {
      "text/plain": [
       "((1125, 6), (375, 6), (1125,), (375,))"
      ]
     },
     "execution_count": 109,
     "metadata": {},
     "output_type": "execute_result"
    }
   ],
   "source": [
    "## separer mes jeu de données en 75% et 25%\n",
    "from sklearn.model_selection import train_test_split\n",
    "x_train, x_test, y_train, y_test = train_test_split(scaled_features,BilletF[\"is_genuine\"],random_state=22)\n",
    "x_train.shape,x_test.shape,y_train.shape,y_test.shape"
   ]
  },
  {
   "cell_type": "markdown",
   "id": "4d63dec3",
   "metadata": {},
   "source": [
    "   ## 1-Clustering k-means"
   ]
  },
  {
   "cell_type": "markdown",
   "id": "18d9d14c",
   "metadata": {},
   "source": [
    "## Insertion et rappel sur le clustering"
   ]
  },
  {
   "cell_type": "raw",
   "id": "8bcc5249",
   "metadata": {},
   "source": [
    "on fait un apprentissage supervisé:\n",
    "On utilise un algorithme de k-means pour le clustering\n",
    "je fais mon clustering sur les données d'apprentissage "
   ]
  },
  {
   "cell_type": "code",
   "execution_count": 110,
   "id": "2fea4978",
   "metadata": {},
   "outputs": [],
   "source": [
    "from sklearn.cluster import KMeans\n",
    "## utilisation de la methode silouhette , elle permet de savoir le nombre de cluster pertinent\n",
    "from sklearn.metrics import silhouette_samples, silhouette_score\n",
    "\n",
    "## k-means, c'est la deuxiéme methode de clustering:\n",
    "# A list holds the silhouette coefficients for each k\n",
    "km_silhouette_coefficients = []\n",
    "\n",
    "## ramdon_state permet de fixer le nombre aleatoire tiré\n",
    "# Notice you start at 2 clusters for silhouette coefficient\n",
    "for k in range(2, 5):\n",
    "    clusterer = KMeans(n_clusters=k, random_state=10)\n",
    "    cluster_labels = clusterer.fit_predict(x_train)\n",
    "\n",
    "    score = silhouette_score(x_train, cluster_labels)\n",
    "    km_silhouette_coefficients.append(score)"
   ]
  },
  {
   "cell_type": "code",
   "execution_count": 111,
   "id": "763f8746",
   "metadata": {},
   "outputs": [
    {
     "data": {
      "text/plain": [
       "[0.3404234788873669, 0.21127886150760714, 0.19718245718131264]"
      ]
     },
     "execution_count": 111,
     "metadata": {},
     "output_type": "execute_result"
    }
   ],
   "source": [
    "## les coefficients silhouette.\n",
    "km_silhouette_coefficients\n"
   ]
  },
  {
   "cell_type": "markdown",
   "id": "fec74e60",
   "metadata": {},
   "source": [
    "### L'inertie"
   ]
  },
  {
   "cell_type": "raw",
   "id": "5bce88c8",
   "metadata": {},
   "source": [
    "Inertie: C'est la somme des distances des points à leur centroïde respectif. Plus l'inertie est faible, mieux le clustering est considéré."
   ]
  },
  {
   "cell_type": "code",
   "execution_count": 112,
   "id": "67626d11",
   "metadata": {},
   "outputs": [
    {
     "name": "stdout",
     "output_type": "stream",
     "text": [
      "Inertie:  3511.5493795604807\n"
     ]
    }
   ],
   "source": [
    "from sklearn.cluster import KMeans\n",
    "from sklearn.datasets import make_blobs\n",
    "from sklearn.metrics import silhouette_score\n",
    "import numpy as np\n",
    "\n",
    "inertia = clusterer.inertia_\n",
    "print(\"Inertie: \", inertia)"
   ]
  },
  {
   "cell_type": "raw",
   "id": "6e46766d",
   "metadata": {},
   "source": [
    "Le résultat que vous avez obtenu, 3511.5493795604807, représente la valeur totale de l'inertie pour votre modèle de k-means. Plus précisément, cela signifie que la somme des distances quadratiques de tous les points de données à leur centroïde associé est de 3511.5493795604807."
   ]
  },
  {
   "cell_type": "code",
   "execution_count": 113,
   "id": "09f047e9",
   "metadata": {},
   "outputs": [
    {
     "data": {
      "text/plain": [
       "2"
      ]
     },
     "execution_count": 113,
     "metadata": {},
     "output_type": "execute_result"
    }
   ],
   "source": [
    "## indique le meilleur coeff silhouette a choisir.\n",
    "bestclustn = range(2,11)[km_silhouette_coefficients.index(max(km_silhouette_coefficients))]\n",
    "bestclustn"
   ]
  },
  {
   "cell_type": "markdown",
   "id": "aa8f4aee",
   "metadata": {},
   "source": [
    "### Perforance du clustering sur les données d'apprentissage"
   ]
  },
  {
   "cell_type": "raw",
   "id": "6b7585cf",
   "metadata": {},
   "source": [
    "Je vais entrainer mon algorithme de k-means avec mes données d'entrainement."
   ]
  },
  {
   "cell_type": "code",
   "execution_count": 114,
   "id": "423cfcce",
   "metadata": {},
   "outputs": [
    {
     "data": {
      "text/plain": [
       "array([1, 0, 1, ..., 1, 1, 1])"
      ]
     },
     "execution_count": 114,
     "metadata": {},
     "output_type": "execute_result"
    }
   ],
   "source": [
    "## on fait un  cluterer de test\n",
    "clusterer = KMeans(n_clusters=2, random_state=10)\n",
    "cluster_labels = clusterer.fit_predict(x_train)\n",
    "cluster_labels\n",
    "## on voit quels billets corresponds pour chaques clusters"
   ]
  },
  {
   "cell_type": "code",
   "execution_count": 115,
   "id": "7613cdb9",
   "metadata": {},
   "outputs": [
    {
     "data": {
      "text/html": [
       "<div>\n",
       "<style scoped>\n",
       "    .dataframe tbody tr th:only-of-type {\n",
       "        vertical-align: middle;\n",
       "    }\n",
       "\n",
       "    .dataframe tbody tr th {\n",
       "        vertical-align: top;\n",
       "    }\n",
       "\n",
       "    .dataframe thead th {\n",
       "        text-align: right;\n",
       "    }\n",
       "</style>\n",
       "<table border=\"1\" class=\"dataframe\">\n",
       "  <thead>\n",
       "    <tr style=\"text-align: right;\">\n",
       "      <th>is_genuine</th>\n",
       "      <th>False</th>\n",
       "      <th>True</th>\n",
       "    </tr>\n",
       "    <tr>\n",
       "      <th>row_0</th>\n",
       "      <th></th>\n",
       "      <th></th>\n",
       "    </tr>\n",
       "  </thead>\n",
       "  <tbody>\n",
       "    <tr>\n",
       "      <th>0</th>\n",
       "      <td>374</td>\n",
       "      <td>7</td>\n",
       "    </tr>\n",
       "    <tr>\n",
       "      <th>1</th>\n",
       "      <td>10</td>\n",
       "      <td>734</td>\n",
       "    </tr>\n",
       "  </tbody>\n",
       "</table>\n",
       "</div>"
      ],
      "text/plain": [
       "is_genuine  False  True\n",
       "row_0                  \n",
       "0             374     7\n",
       "1              10   734"
      ]
     },
     "execution_count": 115,
     "metadata": {},
     "output_type": "execute_result"
    }
   ],
   "source": [
    "## matrice de confusion pour mes clustering, label de cluster vs l'apprentissage\n",
    "pd.crosstab(index=cluster_labels,columns=y_train)\n"
   ]
  },
  {
   "cell_type": "markdown",
   "id": "5aa09ebc",
   "metadata": {},
   "source": [
    "### Performance du clustering sur les données de test"
   ]
  },
  {
   "cell_type": "raw",
   "id": "036b9e78",
   "metadata": {},
   "source": [
    "suite à l'entrainer de mon algorithme de k-means avec mes données d'entrainement."
   ]
  },
  {
   "cell_type": "raw",
   "id": "86648972",
   "metadata": {},
   "source": [
    "On va ensuite tester notre k-means avec les données test"
   ]
  },
  {
   "cell_type": "code",
   "execution_count": 116,
   "id": "8e85d0ae",
   "metadata": {},
   "outputs": [
    {
     "data": {
      "text/plain": [
       "(375,)"
      ]
     },
     "execution_count": 116,
     "metadata": {},
     "output_type": "execute_result"
    }
   ],
   "source": [
    "Ctest=clusterer.predict(x_test)\n",
    "Ctest.shape"
   ]
  },
  {
   "cell_type": "code",
   "execution_count": 117,
   "id": "329d35ed",
   "metadata": {},
   "outputs": [
    {
     "data": {
      "text/html": [
       "<div>\n",
       "<style scoped>\n",
       "    .dataframe tbody tr th:only-of-type {\n",
       "        vertical-align: middle;\n",
       "    }\n",
       "\n",
       "    .dataframe tbody tr th {\n",
       "        vertical-align: top;\n",
       "    }\n",
       "\n",
       "    .dataframe thead th {\n",
       "        text-align: right;\n",
       "    }\n",
       "</style>\n",
       "<table border=\"1\" class=\"dataframe\">\n",
       "  <thead>\n",
       "    <tr style=\"text-align: right;\">\n",
       "      <th>is_genuine</th>\n",
       "      <th>False</th>\n",
       "      <th>True</th>\n",
       "    </tr>\n",
       "    <tr>\n",
       "      <th>row_0</th>\n",
       "      <th></th>\n",
       "      <th></th>\n",
       "    </tr>\n",
       "  </thead>\n",
       "  <tbody>\n",
       "    <tr>\n",
       "      <th>0</th>\n",
       "      <td>114</td>\n",
       "      <td>3</td>\n",
       "    </tr>\n",
       "    <tr>\n",
       "      <th>1</th>\n",
       "      <td>2</td>\n",
       "      <td>256</td>\n",
       "    </tr>\n",
       "  </tbody>\n",
       "</table>\n",
       "</div>"
      ],
      "text/plain": [
       "is_genuine  False  True\n",
       "row_0                  \n",
       "0             114     3\n",
       "1               2   256"
      ]
     },
     "execution_count": 117,
     "metadata": {},
     "output_type": "execute_result"
    }
   ],
   "source": [
    "pd.crosstab(index=Ctest,columns=y_test)"
   ]
  },
  {
   "cell_type": "code",
   "execution_count": 118,
   "id": "7efd7ae2",
   "metadata": {},
   "outputs": [
    {
     "data": {
      "text/html": [
       "<div>\n",
       "<style scoped>\n",
       "    .dataframe tbody tr th:only-of-type {\n",
       "        vertical-align: middle;\n",
       "    }\n",
       "\n",
       "    .dataframe tbody tr th {\n",
       "        vertical-align: top;\n",
       "    }\n",
       "\n",
       "    .dataframe thead th {\n",
       "        text-align: right;\n",
       "    }\n",
       "</style>\n",
       "<table border=\"1\" class=\"dataframe\">\n",
       "  <thead>\n",
       "    <tr style=\"text-align: right;\">\n",
       "      <th>is_genuine</th>\n",
       "      <th>False</th>\n",
       "      <th>True</th>\n",
       "    </tr>\n",
       "    <tr>\n",
       "      <th>row_0</th>\n",
       "      <th></th>\n",
       "      <th></th>\n",
       "    </tr>\n",
       "  </thead>\n",
       "  <tbody>\n",
       "    <tr>\n",
       "      <th>0</th>\n",
       "      <td>114</td>\n",
       "      <td>3</td>\n",
       "    </tr>\n",
       "    <tr>\n",
       "      <th>1</th>\n",
       "      <td>2</td>\n",
       "      <td>256</td>\n",
       "    </tr>\n",
       "  </tbody>\n",
       "</table>\n",
       "</div>"
      ],
      "text/plain": [
       "is_genuine  False  True\n",
       "row_0                  \n",
       "0             114     3\n",
       "1               2   256"
      ]
     },
     "execution_count": 118,
     "metadata": {},
     "output_type": "execute_result"
    }
   ],
   "source": [
    "## c'est un exemple de marché learning\n",
    "pd.crosstab(index=clusterer.predict(x_test),columns=y_test)"
   ]
  },
  {
   "cell_type": "code",
   "execution_count": 119,
   "id": "dbd858cb",
   "metadata": {},
   "outputs": [
    {
     "name": "stdout",
     "output_type": "stream",
     "text": [
      "[[ 3.78900396e-02  3.49632619e-02  9.82104904e-01 -3.84396065e-01\n",
      "  -1.34408792e+00  9.87461755e-01]\n",
      " [ 4.96765952e-01  3.69007165e-01  7.05622938e-01  5.40670753e-01\n",
      "   5.54625780e-01 -1.94684131e+00]\n",
      " [ 1.28341037e+00  3.49632619e-02  7.97783593e-01 -2.04353498e-02\n",
      "  -5.24188824e-01  5.40439022e-01]\n",
      " ...\n",
      " [ 8.57311312e-01 -1.06738162e+00 -1.50623279e+00 -5.36046363e-01\n",
      "  -3.94731071e-01  8.49916299e-01]\n",
      " [ 1.02119557e+00  3.02198385e-01  1.21938787e-01 -5.51211393e-01\n",
      "  -1.77561376e+00  5.06052658e-01]\n",
      " [-3.88209022e-01  1.55887155e-03 -1.23822960e-01 -2.63075827e-01\n",
      "   1.23099938e-01  4.48742051e-01]]\n"
     ]
    }
   ],
   "source": [
    "print(x_train)"
   ]
  },
  {
   "cell_type": "markdown",
   "id": "365d8ada",
   "metadata": {},
   "source": [
    "# D-Regression logistique:"
   ]
  },
  {
   "cell_type": "raw",
   "id": "8f07b7ca",
   "metadata": {},
   "source": [
    "La régression logistique est une technique de classification utilisée pour prédire une variable catégorielle\n",
    "en utilisant une courbe sigmoid.\n",
    "Il peut uniquement prédire des valeurs binaires (par exemple, oui/non, vrai/faux, etc.)"
   ]
  },
  {
   "cell_type": "raw",
   "id": "b6512146",
   "metadata": {},
   "source": [
    "transformer en dataframe x_train pour y rajouter les noms de colonnes de mes 6 variables"
   ]
  },
  {
   "cell_type": "code",
   "execution_count": 120,
   "id": "cb1973ac",
   "metadata": {},
   "outputs": [
    {
     "name": "stdout",
     "output_type": "stream",
     "text": [
      "Optimization terminated successfully.\n",
      "         Current function value: 0.053332\n",
      "         Iterations 11\n",
      "                           Logit Regression Results                           \n",
      "==============================================================================\n",
      "Dep. Variable:             is_genuine   No. Observations:                 1125\n",
      "Model:                          Logit   Df Residuals:                     1119\n",
      "Method:                           MLE   Df Model:                            5\n",
      "Date:                Thu, 09 Feb 2023   Pseudo R-squ.:                  0.9169\n",
      "Time:                        14:27:25   Log-Likelihood:                -59.998\n",
      "converged:                       True   LL-Null:                       -722.16\n",
      "Covariance Type:            nonrobust   LLR p-value:                3.448e-284\n",
      "==============================================================================\n",
      "                 coef    std err          z      P>|z|      [0.025      0.975]\n",
      "------------------------------------------------------------------------------\n",
      "x1             0.2622      0.243      1.078      0.281      -0.214       0.739\n",
      "x2            -0.6641      0.263     -2.521      0.012      -1.180      -0.148\n",
      "x3            -0.6708      0.281     -2.391      0.017      -1.221      -0.121\n",
      "x4            -4.2783      0.626     -6.838      0.000      -5.505      -3.052\n",
      "x5            -1.6117      0.334     -4.823      0.000      -2.267      -0.957\n",
      "x6             5.3795      0.662      8.125      0.000       4.082       6.677\n",
      "==============================================================================\n",
      "\n",
      "Possibly complete quasi-separation: A fraction 0.42 of observations can be\n",
      "perfectly predicted. This might indicate that there is complete\n",
      "quasi-separation. In this case some parameters will not be identified.\n"
     ]
    }
   ],
   "source": [
    "from statsmodels.api import Logit\n",
    "\n",
    "reg_log = Logit(endog=y_train,exog=x_train)# Calculs:\n",
    "res_log = reg_log.fit()# Resume des resultats:\n",
    "print(res_log.summary())"
   ]
  },
  {
   "cell_type": "code",
   "execution_count": 121,
   "id": "9ca23cf5",
   "metadata": {},
   "outputs": [
    {
     "data": {
      "text/plain": [
       "array([[ 3.49632619e-02,  9.82104904e-01, -3.84396065e-01,\n",
       "        -1.34408792e+00,  9.87461755e-01],\n",
       "       [ 3.69007165e-01,  7.05622938e-01,  5.40670753e-01,\n",
       "         5.54625780e-01, -1.94684131e+00],\n",
       "       [ 3.49632619e-02,  7.97783593e-01, -2.04353498e-02,\n",
       "        -5.24188824e-01,  5.40439022e-01],\n",
       "       ...,\n",
       "       [-1.06738162e+00, -1.50623279e+00, -5.36046363e-01,\n",
       "        -3.94731071e-01,  8.49916299e-01],\n",
       "       [ 3.02198385e-01,  1.21938787e-01, -5.51211393e-01,\n",
       "        -1.77561376e+00,  5.06052658e-01],\n",
       "       [ 1.55887155e-03, -1.23822960e-01, -2.63075827e-01,\n",
       "         1.23099938e-01,  4.48742051e-01]])"
      ]
     },
     "execution_count": 121,
     "metadata": {},
     "output_type": "execute_result"
    }
   ],
   "source": [
    "## supprimer la variable x1 qui est egale a diagonal:\n",
    "x_train2=x_train[:,1:6]\n",
    "x_train2\n"
   ]
  },
  {
   "cell_type": "code",
   "execution_count": 122,
   "id": "d6bcaa9b",
   "metadata": {},
   "outputs": [
    {
     "data": {
      "text/plain": [
       "array([[-1.33461674,  0.61346228, -0.17208565, -0.39473107,  0.80406781],\n",
       "       [ 0.10177204, -1.07614973, -0.64220157, -0.0495104 ,  0.34558296],\n",
       "       [-1.56844747,  1.44290818, -1.1123175 , -0.39473107,  0.89576478],\n",
       "       ...,\n",
       "       [-1.16759479, -2.39711913, -0.49055127,  0.12309994,  1.43448449],\n",
       "       [-1.4682343 , -0.73822733, -0.06593044,  0.72723612,  0.63213599],\n",
       "       [ 0.10177204, -0.40030493, -0.30857092,  0.03679477,  0.72383296]])"
      ]
     },
     "execution_count": 122,
     "metadata": {},
     "output_type": "execute_result"
    }
   ],
   "source": [
    "x_test2=x_test[:,1:6]\n",
    "x_test2"
   ]
  },
  {
   "cell_type": "code",
   "execution_count": 123,
   "id": "5b4463ca",
   "metadata": {},
   "outputs": [
    {
     "name": "stdout",
     "output_type": "stream",
     "text": [
      "Optimization terminated successfully.\n",
      "         Current function value: 0.053852\n",
      "         Iterations 11\n",
      "                           Logit Regression Results                           \n",
      "==============================================================================\n",
      "Dep. Variable:             is_genuine   No. Observations:                 1125\n",
      "Model:                          Logit   Df Residuals:                     1120\n",
      "Method:                           MLE   Df Model:                            4\n",
      "Date:                Thu, 09 Feb 2023   Pseudo R-squ.:                  0.9161\n",
      "Time:                        14:27:25   Log-Likelihood:                -60.583\n",
      "converged:                       True   LL-Null:                       -722.16\n",
      "Covariance Type:            nonrobust   LLR p-value:                3.192e-285\n",
      "==============================================================================\n",
      "                 coef    std err          z      P>|z|      [0.025      0.975]\n",
      "------------------------------------------------------------------------------\n",
      "x1            -0.6456      0.259     -2.493      0.013      -1.153      -0.138\n",
      "x2            -0.6404      0.274     -2.334      0.020      -1.178      -0.103\n",
      "x3            -4.3363      0.626     -6.924      0.000      -5.564      -3.109\n",
      "x4            -1.6276      0.334     -4.869      0.000      -2.283      -0.972\n",
      "x5             5.4472      0.664      8.202      0.000       4.146       6.749\n",
      "==============================================================================\n",
      "\n",
      "Possibly complete quasi-separation: A fraction 0.42 of observations can be\n",
      "perfectly predicted. This might indicate that there is complete\n",
      "quasi-separation. In this case some parameters will not be identified.\n"
     ]
    }
   ],
   "source": [
    "reg_log2 = Logit(endog=y_train,exog=x_train2)# Calculs:\n",
    "res_log2 = reg_log2.fit()# Resume des resultats:\n",
    "print(res_log2.summary())"
   ]
  },
  {
   "cell_type": "markdown",
   "id": "b2f2d10e",
   "metadata": {},
   "source": [
    "### Le R2"
   ]
  },
  {
   "cell_type": "raw",
   "id": "7fecf9f7",
   "metadata": {},
   "source": [
    "Le coefficient de détermination (R²) est une métrique courante utilisée pour évaluer la performance d'un modèle de régression linéaire. Il mesure la proportion de la variance totale des réponses expliquée par les variables prédictives dans le modèle.\n",
    "\n",
    "Un R² de 0.91 signifie que 91% de la variance des réponses dans les données est expliquée par les variables prédictives dans le modèle de régression. Cela peut être interprété comme un modèle qui capture une grande partie de la variation des réponses dans les données."
   ]
  },
  {
   "cell_type": "code",
   "execution_count": 124,
   "id": "06e35e90",
   "metadata": {},
   "outputs": [
    {
     "data": {
      "text/plain": [
       "array([ True,  True,  True, False,  True,  True, False, False,  True,\n",
       "       False,  True,  True,  True,  True,  True, False, False, False,\n",
       "        True,  True,  True,  True,  True,  True,  True,  True,  True,\n",
       "        True,  True, False, False,  True, False,  True,  True,  True,\n",
       "        True,  True,  True,  True,  True,  True,  True,  True,  True,\n",
       "        True, False, False,  True,  True,  True,  True, False,  True,\n",
       "        True,  True, False,  True,  True, False, False,  True,  True,\n",
       "        True, False, False, False, False, False,  True,  True,  True,\n",
       "        True, False, False, False,  True, False, False,  True,  True,\n",
       "        True, False, False, False,  True,  True,  True,  True,  True,\n",
       "        True,  True, False,  True, False, False,  True,  True,  True,\n",
       "       False, False,  True,  True,  True,  True,  True,  True,  True,\n",
       "        True, False,  True,  True,  True, False, False, False, False,\n",
       "        True, False, False,  True, False, False,  True,  True, False,\n",
       "        True,  True,  True,  True, False, False, False,  True,  True,\n",
       "        True, False,  True,  True,  True, False,  True,  True,  True,\n",
       "        True,  True,  True,  True, False,  True,  True, False, False,\n",
       "        True,  True,  True,  True,  True,  True,  True, False,  True,\n",
       "        True,  True, False,  True,  True,  True, False,  True,  True,\n",
       "       False,  True, False, False, False,  True,  True,  True,  True,\n",
       "        True,  True, False, False,  True, False,  True, False,  True,\n",
       "       False, False,  True,  True,  True,  True,  True, False,  True,\n",
       "       False, False,  True,  True,  True,  True,  True,  True,  True,\n",
       "       False,  True,  True,  True, False,  True,  True,  True, False,\n",
       "        True,  True,  True,  True, False,  True,  True,  True, False,\n",
       "       False,  True,  True, False,  True,  True, False,  True, False,\n",
       "        True,  True,  True,  True,  True,  True,  True,  True,  True,\n",
       "       False,  True,  True,  True,  True,  True, False,  True,  True,\n",
       "        True,  True,  True, False, False,  True,  True, False,  True,\n",
       "        True, False,  True, False,  True, False,  True,  True, False,\n",
       "       False,  True, False, False, False,  True,  True,  True,  True,\n",
       "        True,  True,  True, False,  True,  True,  True,  True,  True,\n",
       "        True, False, False,  True,  True, False, False, False,  True,\n",
       "        True,  True, False,  True,  True,  True, False, False,  True,\n",
       "        True,  True, False,  True,  True, False, False,  True, False,\n",
       "        True, False,  True,  True,  True,  True,  True,  True,  True,\n",
       "        True, False,  True,  True,  True,  True,  True,  True,  True,\n",
       "        True,  True,  True,  True,  True,  True, False,  True,  True,\n",
       "        True,  True, False, False,  True,  True,  True, False,  True,\n",
       "        True,  True,  True,  True,  True, False, False,  True, False,\n",
       "       False, False, False, False,  True, False,  True,  True,  True,\n",
       "        True,  True, False,  True,  True,  True])"
      ]
     },
     "execution_count": 124,
     "metadata": {},
     "output_type": "execute_result"
    }
   ],
   "source": [
    "## evalutation: on va predire les valeurs de x_test, ce sont les probabilité qui me renvoie\n",
    "y_predict= res_log2.predict(x_test2)\n",
    "y_predict\n",
    "## transformation de mes probabilité en true ou false\n",
    "y_predict2=(y_predict>=0.5)\n",
    "y_predict2"
   ]
  },
  {
   "cell_type": "code",
   "execution_count": 125,
   "id": "7d229ba8",
   "metadata": {},
   "outputs": [
    {
     "data": {
      "text/html": [
       "<div>\n",
       "<style scoped>\n",
       "    .dataframe tbody tr th:only-of-type {\n",
       "        vertical-align: middle;\n",
       "    }\n",
       "\n",
       "    .dataframe tbody tr th {\n",
       "        vertical-align: top;\n",
       "    }\n",
       "\n",
       "    .dataframe thead th {\n",
       "        text-align: right;\n",
       "    }\n",
       "</style>\n",
       "<table border=\"1\" class=\"dataframe\">\n",
       "  <thead>\n",
       "    <tr style=\"text-align: right;\">\n",
       "      <th>is_genuine</th>\n",
       "      <th>False</th>\n",
       "      <th>True</th>\n",
       "    </tr>\n",
       "    <tr>\n",
       "      <th>row_0</th>\n",
       "      <th></th>\n",
       "      <th></th>\n",
       "    </tr>\n",
       "  </thead>\n",
       "  <tbody>\n",
       "    <tr>\n",
       "      <th>False</th>\n",
       "      <td>115</td>\n",
       "      <td>3</td>\n",
       "    </tr>\n",
       "    <tr>\n",
       "      <th>True</th>\n",
       "      <td>1</td>\n",
       "      <td>256</td>\n",
       "    </tr>\n",
       "  </tbody>\n",
       "</table>\n",
       "</div>"
      ],
      "text/plain": [
       "is_genuine  False  True\n",
       "row_0                  \n",
       "False         115     3\n",
       "True            1   256"
      ]
     },
     "execution_count": 125,
     "metadata": {},
     "output_type": "execute_result"
    }
   ],
   "source": [
    "##faire ma matrice de confusion y predic 2 vs ytes\n",
    "pd.crosstab(index=y_predict2,columns=y_test)"
   ]
  },
  {
   "cell_type": "code",
   "execution_count": 126,
   "id": "a21b1ee6",
   "metadata": {},
   "outputs": [
    {
     "data": {
      "text/html": [
       "<div>\n",
       "<style scoped>\n",
       "    .dataframe tbody tr th:only-of-type {\n",
       "        vertical-align: middle;\n",
       "    }\n",
       "\n",
       "    .dataframe tbody tr th {\n",
       "        vertical-align: top;\n",
       "    }\n",
       "\n",
       "    .dataframe thead th {\n",
       "        text-align: right;\n",
       "    }\n",
       "</style>\n",
       "<table border=\"1\" class=\"dataframe\">\n",
       "  <thead>\n",
       "    <tr style=\"text-align: right;\">\n",
       "      <th>is_genuine</th>\n",
       "      <th>False</th>\n",
       "      <th>True</th>\n",
       "    </tr>\n",
       "    <tr>\n",
       "      <th>row_0</th>\n",
       "      <th></th>\n",
       "      <th></th>\n",
       "    </tr>\n",
       "  </thead>\n",
       "  <tbody>\n",
       "    <tr>\n",
       "      <th>0</th>\n",
       "      <td>114</td>\n",
       "      <td>3</td>\n",
       "    </tr>\n",
       "    <tr>\n",
       "      <th>1</th>\n",
       "      <td>2</td>\n",
       "      <td>256</td>\n",
       "    </tr>\n",
       "  </tbody>\n",
       "</table>\n",
       "</div>"
      ],
      "text/plain": [
       "is_genuine  False  True\n",
       "row_0                  \n",
       "0             114     3\n",
       "1               2   256"
      ]
     },
     "execution_count": 126,
     "metadata": {},
     "output_type": "execute_result"
    }
   ],
   "source": [
    "## matrice de confusion\n",
    "pd.crosstab(index=clusterer.predict(x_test),columns=y_test)"
   ]
  },
  {
   "cell_type": "markdown",
   "id": "260db361",
   "metadata": {},
   "source": [
    "### R squared"
   ]
  },
  {
   "cell_type": "raw",
   "id": "f4e76ffd",
   "metadata": {},
   "source": [
    "Le coefficient de détermination R² (R-squared en anglais) est un indicateur couramment utilisé pour évaluer la qualité de l'ajustement d'un modèle de régression. Cette métrique mesure la proportion de la variance totale des données expliquée par le modèle.\n",
    "R² varie entre 0 et 1, où une valeur de 1 signifie que le modèle explique parfaitement la variance totale des données, tandis qu'une valeur de 0 signifie que le modèle ne peut pas mieux expliquer les données qu'une simple moyenne."
   ]
  },
  {
   "cell_type": "raw",
   "id": "42830222",
   "metadata": {},
   "source": [
    "La fonction renvoie un score flottant compris entre 0 et 1, où une valeur proche de 1 indique un ajustement fort et une valeur proche de 0 indique un ajustement faible.\n",
    "\n",
    "Un R² de 0.91 signifie que 91% de la variance des réponses dans les données est expliquée par les variables prédictives dans le modèle de régression. Cela peut être interprété comme un modèle qui capture une grande partie de la variation des réponses dans les données."
   ]
  },
  {
   "cell_type": "markdown",
   "id": "a5b480b4",
   "metadata": {},
   "source": [
    "### Test d'accuracy:"
   ]
  },
  {
   "cell_type": "raw",
   "id": "209f4369",
   "metadata": {},
   "source": [
    "Test d'accuracy:\n",
    "Ce paramètre fait la somme de tous les vrais positifs et vrais négatifs qu'il divise par le nombre total d'instances. Il permet d'apporter une réponse à la question suivante : de toutes les classes positives et négatives, combien parmi elles ont été prédites correctement"
   ]
  },
  {
   "cell_type": "code",
   "execution_count": 127,
   "id": "55c5a4d3",
   "metadata": {},
   "outputs": [
    {
     "name": "stdout",
     "output_type": "stream",
     "text": [
      "Testing accuracy: 98.93333333333332\n"
     ]
    }
   ],
   "source": [
    "from sklearn.metrics import accuracy_score\n",
    "\n",
    "test_accuracy=accuracy_score(y_test,y_predict2)*100\n",
    "print('Testing accuracy:',test_accuracy)"
   ]
  },
  {
   "cell_type": "code",
   "execution_count": 128,
   "id": "d1e17228",
   "metadata": {},
   "outputs": [
    {
     "name": "stdout",
     "output_type": "stream",
     "text": [
      "              precision    recall  f1-score   support\n",
      "\n",
      "       False   0.974576  0.991379  0.982906       116\n",
      "        True   0.996109  0.988417  0.992248       259\n",
      "\n",
      "    accuracy                       0.989333       375\n",
      "   macro avg   0.985343  0.989898  0.987577       375\n",
      "weighted avg   0.989448  0.989333  0.989358       375\n",
      "\n"
     ]
    }
   ],
   "source": [
    "## on va afficher le rapport de classification: \n",
    "from sklearn.metrics import classification_report\n",
    "print(classification_report(y_test, y_predict2, digits=6))"
   ]
  },
  {
   "cell_type": "markdown",
   "id": "59f1f746",
   "metadata": {},
   "source": [
    "# Realiser une analyse predictive"
   ]
  },
  {
   "cell_type": "raw",
   "id": "5a20a483",
   "metadata": {},
   "source": [
    "Pour la soutenance , faire la standardisation des données et supprimer la premiere colonne(la colonne diagonal pour etre exact)\n",
    "Le modele va me donner des probabilité qu'il faut ensuite changer en true or false.\n",
    "Il suffit de remplacer le x_test sur les lignes d'ensuite.\n",
    "evalutation: on va predire les valeurs de x_test\n",
    "Bien se rappeler de supprimer la colonne que j'ai retiré lors de ma regression logistique"
   ]
  },
  {
   "cell_type": "code",
   "execution_count": 137,
   "id": "5dbfaefa",
   "metadata": {},
   "outputs": [
    {
     "data": {
      "text/html": [
       "<div>\n",
       "<style scoped>\n",
       "    .dataframe tbody tr th:only-of-type {\n",
       "        vertical-align: middle;\n",
       "    }\n",
       "\n",
       "    .dataframe tbody tr th {\n",
       "        vertical-align: top;\n",
       "    }\n",
       "\n",
       "    .dataframe thead th {\n",
       "        text-align: right;\n",
       "    }\n",
       "</style>\n",
       "<table border=\"1\" class=\"dataframe\">\n",
       "  <thead>\n",
       "    <tr style=\"text-align: right;\">\n",
       "      <th></th>\n",
       "      <th>diagonal</th>\n",
       "      <th>height_left</th>\n",
       "      <th>height_right</th>\n",
       "      <th>margin_low</th>\n",
       "      <th>margin_up</th>\n",
       "      <th>length</th>\n",
       "      <th>id</th>\n",
       "    </tr>\n",
       "  </thead>\n",
       "  <tbody>\n",
       "    <tr>\n",
       "      <th>0</th>\n",
       "      <td>172.09</td>\n",
       "      <td>103.95</td>\n",
       "      <td>103.73</td>\n",
       "      <td>4.39</td>\n",
       "      <td>3.09</td>\n",
       "      <td>113.19</td>\n",
       "      <td>B_1</td>\n",
       "    </tr>\n",
       "    <tr>\n",
       "      <th>1</th>\n",
       "      <td>171.52</td>\n",
       "      <td>104.17</td>\n",
       "      <td>104.03</td>\n",
       "      <td>5.27</td>\n",
       "      <td>3.16</td>\n",
       "      <td>111.82</td>\n",
       "      <td>B_2</td>\n",
       "    </tr>\n",
       "    <tr>\n",
       "      <th>2</th>\n",
       "      <td>171.78</td>\n",
       "      <td>103.80</td>\n",
       "      <td>103.75</td>\n",
       "      <td>3.81</td>\n",
       "      <td>3.24</td>\n",
       "      <td>113.39</td>\n",
       "      <td>B_3</td>\n",
       "    </tr>\n",
       "    <tr>\n",
       "      <th>3</th>\n",
       "      <td>172.02</td>\n",
       "      <td>104.08</td>\n",
       "      <td>103.99</td>\n",
       "      <td>5.57</td>\n",
       "      <td>3.30</td>\n",
       "      <td>111.10</td>\n",
       "      <td>B_4</td>\n",
       "    </tr>\n",
       "    <tr>\n",
       "      <th>4</th>\n",
       "      <td>171.79</td>\n",
       "      <td>104.34</td>\n",
       "      <td>104.37</td>\n",
       "      <td>5.00</td>\n",
       "      <td>3.07</td>\n",
       "      <td>111.87</td>\n",
       "      <td>B_5</td>\n",
       "    </tr>\n",
       "  </tbody>\n",
       "</table>\n",
       "</div>"
      ],
      "text/plain": [
       "   diagonal  height_left  height_right  margin_low  margin_up  length   id\n",
       "0    172.09       103.95        103.73        4.39       3.09  113.19  B_1\n",
       "1    171.52       104.17        104.03        5.27       3.16  111.82  B_2\n",
       "2    171.78       103.80        103.75        3.81       3.24  113.39  B_3\n",
       "3    172.02       104.08        103.99        5.57       3.30  111.10  B_4\n",
       "4    171.79       104.34        104.37        5.00       3.07  111.87  B_5"
      ]
     },
     "execution_count": 137,
     "metadata": {},
     "output_type": "execute_result"
    }
   ],
   "source": [
    "testS=pd.read_csv(\"C:/Users/hotsa/Downloads/billets_test.csv\", sep = ',')\n",
    "testS"
   ]
  },
  {
   "cell_type": "code",
   "execution_count": 138,
   "id": "b9268abe",
   "metadata": {},
   "outputs": [
    {
     "data": {
      "text/html": [
       "<div>\n",
       "<style scoped>\n",
       "    .dataframe tbody tr th:only-of-type {\n",
       "        vertical-align: middle;\n",
       "    }\n",
       "\n",
       "    .dataframe tbody tr th {\n",
       "        vertical-align: top;\n",
       "    }\n",
       "\n",
       "    .dataframe thead th {\n",
       "        text-align: right;\n",
       "    }\n",
       "</style>\n",
       "<table border=\"1\" class=\"dataframe\">\n",
       "  <thead>\n",
       "    <tr style=\"text-align: right;\">\n",
       "      <th></th>\n",
       "      <th>height_left</th>\n",
       "      <th>height_right</th>\n",
       "      <th>margin_low</th>\n",
       "      <th>margin_up</th>\n",
       "      <th>length</th>\n",
       "    </tr>\n",
       "  </thead>\n",
       "  <tbody>\n",
       "    <tr>\n",
       "      <th>0</th>\n",
       "      <td>103.95</td>\n",
       "      <td>103.73</td>\n",
       "      <td>4.39</td>\n",
       "      <td>3.09</td>\n",
       "      <td>113.19</td>\n",
       "    </tr>\n",
       "    <tr>\n",
       "      <th>1</th>\n",
       "      <td>104.17</td>\n",
       "      <td>104.03</td>\n",
       "      <td>5.27</td>\n",
       "      <td>3.16</td>\n",
       "      <td>111.82</td>\n",
       "    </tr>\n",
       "    <tr>\n",
       "      <th>2</th>\n",
       "      <td>103.80</td>\n",
       "      <td>103.75</td>\n",
       "      <td>3.81</td>\n",
       "      <td>3.24</td>\n",
       "      <td>113.39</td>\n",
       "    </tr>\n",
       "    <tr>\n",
       "      <th>3</th>\n",
       "      <td>104.08</td>\n",
       "      <td>103.99</td>\n",
       "      <td>5.57</td>\n",
       "      <td>3.30</td>\n",
       "      <td>111.10</td>\n",
       "    </tr>\n",
       "    <tr>\n",
       "      <th>4</th>\n",
       "      <td>104.34</td>\n",
       "      <td>104.37</td>\n",
       "      <td>5.00</td>\n",
       "      <td>3.07</td>\n",
       "      <td>111.87</td>\n",
       "    </tr>\n",
       "  </tbody>\n",
       "</table>\n",
       "</div>"
      ],
      "text/plain": [
       "   height_left  height_right  margin_low  margin_up  length\n",
       "0       103.95        103.73        4.39       3.09  113.19\n",
       "1       104.17        104.03        5.27       3.16  111.82\n",
       "2       103.80        103.75        3.81       3.24  113.39\n",
       "3       104.08        103.99        5.57       3.30  111.10\n",
       "4       104.34        104.37        5.00       3.07  111.87"
      ]
     },
     "execution_count": 138,
     "metadata": {},
     "output_type": "execute_result"
    }
   ],
   "source": [
    "testS=testS.drop(columns=[\"id\",\"diagonal\"])\n",
    "testS\n"
   ]
  },
  {
   "cell_type": "code",
   "execution_count": 139,
   "id": "d1ecd8fd",
   "metadata": {},
   "outputs": [
    {
     "data": {
      "text/plain": [
       "array([[-0.63941849, -1.05016441, -0.66063862, -0.93715816,  1.04631132],\n",
       "       [ 0.55271768,  0.24102134,  0.73017953, -0.1371451 , -0.51858662],\n",
       "       [-1.4522386 , -0.96408536, -1.57731422,  0.77715555,  1.27476358],\n",
       "       [ 0.06502561,  0.06886324,  1.20432208,  1.46288103, -1.34101473],\n",
       "       [ 1.4739138 ,  1.70436519,  0.30345123, -1.16573332, -0.46147355]])"
      ]
     },
     "execution_count": 139,
     "metadata": {},
     "output_type": "execute_result"
    }
   ],
   "source": [
    "\n",
    "scaler = StandardScaler()\n",
    "testS1 = scaler.fit_transform(testS)\n",
    "testS1\n"
   ]
  },
  {
   "cell_type": "code",
   "execution_count": 140,
   "id": "ce0deded",
   "metadata": {},
   "outputs": [
    {
     "data": {
      "text/plain": [
       "array([9.99985977e-01, 1.87163826e-03, 9.99999228e-01, 3.07747946e-07,\n",
       "       1.84260659e-02])"
      ]
     },
     "execution_count": 140,
     "metadata": {},
     "output_type": "execute_result"
    }
   ],
   "source": [
    "y_predict= res_log2.predict(testS1)\n",
    "y_predict\n"
   ]
  },
  {
   "cell_type": "code",
   "execution_count": 141,
   "id": "1111e3c3",
   "metadata": {},
   "outputs": [
    {
     "data": {
      "text/plain": [
       "array([ True, False,  True, False, False])"
      ]
     },
     "execution_count": 141,
     "metadata": {},
     "output_type": "execute_result"
    }
   ],
   "source": [
    "y_predict=(y_predict>=0.5)\n",
    "y_predict"
   ]
  }
 ],
 "metadata": {
  "kernelspec": {
   "display_name": "Python 3 (ipykernel)",
   "language": "python",
   "name": "python3"
  },
  "language_info": {
   "codemirror_mode": {
    "name": "ipython",
    "version": 3
   },
   "file_extension": ".py",
   "mimetype": "text/x-python",
   "name": "python",
   "nbconvert_exporter": "python",
   "pygments_lexer": "ipython3",
   "version": "3.9.7"
  }
 },
 "nbformat": 4,
 "nbformat_minor": 5
}
